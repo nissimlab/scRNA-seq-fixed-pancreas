{
  "nbformat": 4,
  "nbformat_minor": 0,
  "metadata": {
    "colab": {
      "provenance": [],
      "toc_visible": true,
      "machine_shape": "hm",
      "authorship_tag": "ABX9TyM5OrkIoXpoBy6v/QuTpVsI",
      "include_colab_link": true
    },
    "kernelspec": {
      "name": "python3",
      "display_name": "Python 3"
    },
    "language_info": {
      "name": "python"
    },
    "gpuClass": "standard"
  },
  "cells": [
    {
      "cell_type": "markdown",
      "metadata": {
        "id": "view-in-github",
        "colab_type": "text"
      },
      "source": [
        "<a href=\"https://colab.research.google.com/github/nissimlab/scRNA-seq-fixed-pancreas/blob/main/QC_for_metadata.ipynb\" target=\"_parent\"><img src=\"https://colab.research.google.com/assets/colab-badge.svg\" alt=\"Open In Colab\"/></a>"
      ]
    },
    {
      "cell_type": "markdown",
      "metadata": {
        "id": "mqridQFSnEQ5"
      },
      "source": [
        "# Setup"
      ]
    },
    {
      "cell_type": "markdown",
      "metadata": {
        "id": "eGnsCTBWnEQ6"
      },
      "source": [
        "## link Gdrive"
      ]
    },
    {
      "cell_type": "code",
      "execution_count": null,
      "metadata": {
        "id": "DgYNtX2H5WEL",
        "colab": {
          "base_uri": "https://localhost:8080/"
        },
        "outputId": "b020a70e-93ce-411f-8eaf-a62c0298eb57"
      },
      "outputs": [
        {
          "output_type": "stream",
          "name": "stdout",
          "text": [
            "Mounted at /content/drive\n"
          ]
        }
      ],
      "source": [
        "from google.colab import drive\n",
        "drive.mount('/content/drive',force_remount=True)"
      ]
    },
    {
      "cell_type": "markdown",
      "metadata": {
        "id": "c6cyWp6_ws-y"
      },
      "source": [
        "# Installing packages on Colab"
      ]
    },
    {
      "cell_type": "code",
      "execution_count": null,
      "metadata": {
        "colab": {
          "base_uri": "https://localhost:8080/"
        },
        "id": "7QY6_2j_yTSD",
        "outputId": "aa77ba99-d526-497a-cc50-56d2b13be739"
      },
      "outputs": [
        {
          "output_type": "stream",
          "name": "stdout",
          "text": [
            "Looking in indexes: https://pypi.org/simple, https://us-python.pkg.dev/colab-wheels/public/simple/\n",
            "Collecting setuptools-scm\n",
            "  Downloading setuptools_scm-7.1.0-py3-none-any.whl (43 kB)\n",
            "\u001b[2K     \u001b[90m━━━━━━━━━━━━━━━━━━━━━━━━━━━━━━━━━━━━━━━━\u001b[0m \u001b[32m43.8/43.8 kB\u001b[0m \u001b[31m1.8 MB/s\u001b[0m eta \u001b[36m0:00:00\u001b[0m\n",
            "\u001b[?25hCollecting install\n",
            "  Downloading install-1.3.5-py3-none-any.whl (3.2 kB)\n",
            "Collecting scanpy\n",
            "  Downloading scanpy-1.9.3-py3-none-any.whl (2.0 MB)\n",
            "\u001b[2K     \u001b[90m━━━━━━━━━━━━━━━━━━━━━━━━━━━━━━━━━━━━━━━━\u001b[0m \u001b[32m2.0/2.0 MB\u001b[0m \u001b[31m23.7 MB/s\u001b[0m eta \u001b[36m0:00:00\u001b[0m\n",
            "\u001b[?25hCollecting bbknn\n",
            "  Downloading bbknn-1.5.1-py3-none-any.whl (11 kB)\n",
            "Collecting anndata\n",
            "  Downloading anndata-0.9.1-py3-none-any.whl (102 kB)\n",
            "\u001b[2K     \u001b[90m━━━━━━━━━━━━━━━━━━━━━━━━━━━━━━━━━━━━━━\u001b[0m \u001b[32m103.0/103.0 kB\u001b[0m \u001b[31m11.7 MB/s\u001b[0m eta \u001b[36m0:00:00\u001b[0m\n",
            "\u001b[?25hCollecting leidenalg\n",
            "  Downloading leidenalg-0.9.1-cp310-cp310-manylinux_2_17_x86_64.manylinux2014_x86_64.whl (1.3 MB)\n",
            "\u001b[2K     \u001b[90m━━━━━━━━━━━━━━━━━━━━━━━━━━━━━━━━━━━━━━━━\u001b[0m \u001b[32m1.3/1.3 MB\u001b[0m \u001b[31m62.9 MB/s\u001b[0m eta \u001b[36m0:00:00\u001b[0m\n",
            "\u001b[?25hCollecting scrublet\n",
            "  Downloading scrublet-0.2.3-py3-none-any.whl (15 kB)\n",
            "Collecting watermark\n",
            "  Downloading watermark-2.4.2-py2.py3-none-any.whl (7.5 kB)\n",
            "Requirement already satisfied: pandas==1.5.3 in /usr/local/lib/python3.10/dist-packages (1.5.3)\n",
            "Collecting umap-learn==0.5.3\n",
            "  Downloading umap-learn-0.5.3.tar.gz (88 kB)\n",
            "\u001b[2K     \u001b[90m━━━━━━━━━━━━━━━━━━━━━━━━━━━━━━━━━━━━━━━━\u001b[0m \u001b[32m88.2/88.2 kB\u001b[0m \u001b[31m9.9 MB/s\u001b[0m eta \u001b[36m0:00:00\u001b[0m\n",
            "\u001b[?25h  Preparing metadata (setup.py) ... \u001b[?25l\u001b[?25hdone\n",
            "Collecting plotnine==0.8.0\n",
            "  Downloading plotnine-0.8.0-py3-none-any.whl (4.7 MB)\n",
            "\u001b[2K     \u001b[90m━━━━━━━━━━━━━━━━━━━━━━━━━━━━━━━━━━━━━━━━\u001b[0m \u001b[32m4.7/4.7 MB\u001b[0m \u001b[31m67.1 MB/s\u001b[0m eta \u001b[36m0:00:00\u001b[0m\n",
            "\u001b[?25hCollecting rpy2==3.4.5\n",
            "  Downloading rpy2-3.4.5.tar.gz (194 kB)\n",
            "\u001b[2K     \u001b[90m━━━━━━━━━━━━━━━━━━━━━━━━━━━━━━━━━━━━━━\u001b[0m \u001b[32m194.4/194.4 kB\u001b[0m \u001b[31m17.6 MB/s\u001b[0m eta \u001b[36m0:00:00\u001b[0m\n",
            "\u001b[?25h  Preparing metadata (setup.py) ... \u001b[?25l\u001b[?25hdone\n",
            "Requirement already satisfied: numpy==1.22.4 in /usr/local/lib/python3.10/dist-packages (1.22.4)\n",
            "Requirement already satisfied: panel in /usr/local/lib/python3.10/dist-packages (0.14.4)\n",
            "Collecting muon\n",
            "  Downloading muon-0.1.3-py3-none-any.whl (291 kB)\n",
            "\u001b[2K     \u001b[90m━━━━━━━━━━━━━━━━━━━━━━━━━━━━━━━━━━━━━━\u001b[0m \u001b[32m291.5/291.5 kB\u001b[0m \u001b[31m27.3 MB/s\u001b[0m eta \u001b[36m0:00:00\u001b[0m\n",
            "\u001b[?25hCollecting anndata2ri\n",
            "  Downloading anndata2ri-1.1-py3-none-any.whl (25 kB)\n",
            "Collecting triku\n",
            "  Downloading triku-2.1.6.tar.gz (21 kB)\n",
            "  Installing build dependencies ... \u001b[?25l\u001b[?25hdone\n",
            "  Getting requirements to build wheel ... \u001b[?25l\u001b[?25hdone\n",
            "  Preparing metadata (pyproject.toml) ... \u001b[?25l\u001b[?25hdone\n",
            "Collecting ray\n",
            "  Downloading ray-2.4.0-cp310-cp310-manylinux2014_x86_64.whl (58.6 MB)\n",
            "\u001b[2K     \u001b[90m━━━━━━━━━━━━━━━━━━━━━━━━━━━━━━━━━━━━━━━━\u001b[0m \u001b[32m58.6/58.6 MB\u001b[0m \u001b[31m26.9 MB/s\u001b[0m eta \u001b[36m0:00:00\u001b[0m\n",
            "\u001b[?25hCollecting harmonypy\n",
            "  Downloading harmonypy-0.0.9-py3-none-any.whl (20 kB)\n",
            "Collecting celltypist\n",
            "  Downloading celltypist-1.5.0-py3-none-any.whl (5.4 MB)\n",
            "\u001b[2K     \u001b[90m━━━━━━━━━━━━━━━━━━━━━━━━━━━━━━━━━━━━━━━━\u001b[0m \u001b[32m5.4/5.4 MB\u001b[0m \u001b[31m88.8 MB/s\u001b[0m eta \u001b[36m0:00:00\u001b[0m\n",
            "\u001b[?25hRequirement already satisfied: python-dateutil>=2.8.1 in /usr/local/lib/python3.10/dist-packages (from pandas==1.5.3) (2.8.2)\n",
            "Requirement already satisfied: pytz>=2020.1 in /usr/local/lib/python3.10/dist-packages (from pandas==1.5.3) (2022.7.1)\n",
            "Requirement already satisfied: scikit-learn>=0.22 in /usr/local/lib/python3.10/dist-packages (from umap-learn==0.5.3) (1.2.2)\n",
            "Requirement already satisfied: scipy>=1.0 in /usr/local/lib/python3.10/dist-packages (from umap-learn==0.5.3) (1.10.1)\n",
            "Requirement already satisfied: numba>=0.49 in /usr/local/lib/python3.10/dist-packages (from umap-learn==0.5.3) (0.56.4)\n",
            "Collecting pynndescent>=0.5 (from umap-learn==0.5.3)\n",
            "  Downloading pynndescent-0.5.10.tar.gz (1.1 MB)\n",
            "\u001b[2K     \u001b[90m━━━━━━━━━━━━━━━━━━━━━━━━━━━━━━━━━━━━━━━━\u001b[0m \u001b[32m1.1/1.1 MB\u001b[0m \u001b[31m74.6 MB/s\u001b[0m eta \u001b[36m0:00:00\u001b[0m\n",
            "\u001b[?25h  Preparing metadata (setup.py) ... \u001b[?25l\u001b[?25hdone\n",
            "Requirement already satisfied: tqdm in /usr/local/lib/python3.10/dist-packages (from umap-learn==0.5.3) (4.65.0)\n",
            "Requirement already satisfied: mizani>=0.7.3 in /usr/local/lib/python3.10/dist-packages (from plotnine==0.8.0) (0.8.1)\n",
            "Requirement already satisfied: matplotlib>=3.1.1 in /usr/local/lib/python3.10/dist-packages (from plotnine==0.8.0) (3.7.1)\n",
            "Requirement already satisfied: patsy>=0.5.1 in /usr/local/lib/python3.10/dist-packages (from plotnine==0.8.0) (0.5.3)\n",
            "Requirement already satisfied: statsmodels>=0.12.1 in /usr/local/lib/python3.10/dist-packages (from plotnine==0.8.0) (0.13.5)\n",
            "Collecting descartes>=1.1.0 (from plotnine==0.8.0)\n",
            "  Downloading descartes-1.1.0-py3-none-any.whl (5.8 kB)\n",
            "Requirement already satisfied: cffi>=1.10.0 in /usr/local/lib/python3.10/dist-packages (from rpy2==3.4.5) (1.15.1)\n",
            "Requirement already satisfied: jinja2 in /usr/local/lib/python3.10/dist-packages (from rpy2==3.4.5) (3.1.2)\n",
            "Requirement already satisfied: tzlocal in /usr/local/lib/python3.10/dist-packages (from rpy2==3.4.5) (4.3)\n",
            "Requirement already satisfied: packaging>=20.0 in /usr/local/lib/python3.10/dist-packages (from setuptools-scm) (23.1)\n",
            "Requirement already satisfied: setuptools in /usr/local/lib/python3.10/dist-packages (from setuptools-scm) (67.7.2)\n",
            "Requirement already satisfied: typing-extensions in /usr/local/lib/python3.10/dist-packages (from setuptools-scm) (4.5.0)\n",
            "Requirement already satisfied: tomli>=1.0.0 in /usr/local/lib/python3.10/dist-packages (from setuptools-scm) (2.0.1)\n",
            "Requirement already satisfied: seaborn in /usr/local/lib/python3.10/dist-packages (from scanpy) (0.12.2)\n",
            "Requirement already satisfied: h5py>=3 in /usr/local/lib/python3.10/dist-packages (from scanpy) (3.8.0)\n",
            "Requirement already satisfied: networkx>=2.3 in /usr/local/lib/python3.10/dist-packages (from scanpy) (3.1)\n",
            "Requirement already satisfied: natsort in /usr/local/lib/python3.10/dist-packages (from scanpy) (8.3.1)\n",
            "Requirement already satisfied: joblib in /usr/local/lib/python3.10/dist-packages (from scanpy) (1.2.0)\n",
            "Collecting session-info (from scanpy)\n",
            "  Downloading session_info-1.0.0.tar.gz (24 kB)\n",
            "  Preparing metadata (setup.py) ... \u001b[?25l\u001b[?25hdone\n",
            "Requirement already satisfied: Cython in /usr/local/lib/python3.10/dist-packages (from bbknn) (0.29.34)\n",
            "Collecting annoy (from bbknn)\n",
            "  Downloading annoy-1.17.2.tar.gz (647 kB)\n",
            "\u001b[2K     \u001b[90m━━━━━━━━━━━━━━━━━━━━━━━━━━━━━━━━━━━━━━\u001b[0m \u001b[32m647.4/647.4 kB\u001b[0m \u001b[31m50.3 MB/s\u001b[0m eta \u001b[36m0:00:00\u001b[0m\n",
            "\u001b[?25h  Preparing metadata (setup.py) ... \u001b[?25l\u001b[?25hdone\n",
            "Collecting igraph<0.11,>=0.10.0 (from leidenalg)\n",
            "  Downloading igraph-0.10.4-cp39-abi3-manylinux_2_17_x86_64.manylinux2014_x86_64.whl (3.3 MB)\n",
            "\u001b[2K     \u001b[90m━━━━━━━━━━━━━━━━━━━━━━━━━━━━━━━━━━━━━━━━\u001b[0m \u001b[32m3.3/3.3 MB\u001b[0m \u001b[31m61.2 MB/s\u001b[0m eta \u001b[36m0:00:00\u001b[0m\n",
            "\u001b[?25hRequirement already satisfied: scikit-image in /usr/local/lib/python3.10/dist-packages (from scrublet) (0.19.3)\n",
            "Requirement already satisfied: ipython>=6.0 in /usr/local/lib/python3.10/dist-packages (from watermark) (7.34.0)\n",
            "Collecting importlib-metadata>=1.4 (from watermark)\n",
            "  Downloading importlib_metadata-6.6.0-py3-none-any.whl (22 kB)\n",
            "Collecting py3nvml>=0.2 (from watermark)\n",
            "  Downloading py3nvml-0.2.7-py3-none-any.whl (55 kB)\n",
            "\u001b[2K     \u001b[90m━━━━━━━━━━━━━━━━━━━━━━━━━━━━━━━━━━━━━━━━\u001b[0m \u001b[32m55.5/55.5 kB\u001b[0m \u001b[31m6.0 MB/s\u001b[0m eta \u001b[36m0:00:00\u001b[0m\n",
            "\u001b[?25hRequirement already satisfied: bokeh<2.5.0,>=2.4.0 in /usr/local/lib/python3.10/dist-packages (from panel) (2.4.3)\n",
            "Requirement already satisfied: param>=1.12.0 in /usr/local/lib/python3.10/dist-packages (from panel) (1.13.0)\n",
            "Requirement already satisfied: pyviz-comms>=0.7.4 in /usr/local/lib/python3.10/dist-packages (from panel) (2.2.1)\n",
            "Requirement already satisfied: markdown in /usr/local/lib/python3.10/dist-packages (from panel) (3.4.3)\n",
            "Requirement already satisfied: requests in /usr/local/lib/python3.10/dist-packages (from panel) (2.27.1)\n",
            "Requirement already satisfied: pyct>=0.4.4 in /usr/local/lib/python3.10/dist-packages (from panel) (0.5.0)\n",
            "Requirement already satisfied: bleach in /usr/local/lib/python3.10/dist-packages (from panel) (6.0.0)\n",
            "Requirement already satisfied: protobuf in /usr/local/lib/python3.10/dist-packages (from muon) (3.20.3)\n",
            "Collecting mudata (from muon)\n",
            "  Downloading mudata-0.2.2-py3-none-any.whl (23 kB)\n",
            "Collecting get-version (from anndata2ri)\n",
            "  Downloading get_version-3.5.4-py3-none-any.whl (18 kB)\n",
            "Collecting bottleneck>=1.3.2 (from triku)\n",
            "  Downloading Bottleneck-1.3.7-cp310-cp310-manylinux_2_5_x86_64.manylinux1_x86_64.manylinux_2_17_x86_64.manylinux2014_x86_64.whl (354 kB)\n",
            "\u001b[2K     \u001b[90m━━━━━━━━━━━━━━━━━━━━━━━━━━━━━━━━━━━━━━\u001b[0m \u001b[32m354.0/354.0 kB\u001b[0m \u001b[31m32.0 MB/s\u001b[0m eta \u001b[36m0:00:00\u001b[0m\n",
            "\u001b[?25hRequirement already satisfied: attrs in /usr/local/lib/python3.10/dist-packages (from ray) (23.1.0)\n",
            "Requirement already satisfied: click>=7.0 in /usr/local/lib/python3.10/dist-packages (from ray) (8.1.3)\n",
            "Requirement already satisfied: filelock in /usr/local/lib/python3.10/dist-packages (from ray) (3.12.0)\n",
            "Requirement already satisfied: jsonschema in /usr/local/lib/python3.10/dist-packages (from ray) (4.3.3)\n",
            "Requirement already satisfied: msgpack<2.0.0,>=1.0.0 in /usr/local/lib/python3.10/dist-packages (from ray) (1.0.5)\n",
            "Requirement already satisfied: pyyaml in /usr/local/lib/python3.10/dist-packages (from ray) (6.0)\n",
            "Collecting aiosignal (from ray)\n",
            "  Downloading aiosignal-1.3.1-py3-none-any.whl (7.6 kB)\n",
            "Collecting frozenlist (from ray)\n",
            "  Downloading frozenlist-1.3.3-cp310-cp310-manylinux_2_5_x86_64.manylinux1_x86_64.manylinux_2_17_x86_64.manylinux2014_x86_64.whl (149 kB)\n",
            "\u001b[2K     \u001b[90m━━━━━━━━━━━━━━━━━━━━━━━━━━━━━━━━━━━━━━\u001b[0m \u001b[32m149.6/149.6 kB\u001b[0m \u001b[31m16.2 MB/s\u001b[0m eta \u001b[36m0:00:00\u001b[0m\n",
            "\u001b[?25hCollecting virtualenv<20.21.1,>=20.0.24 (from ray)\n",
            "  Downloading virtualenv-20.21.0-py3-none-any.whl (8.7 MB)\n",
            "\u001b[2K     \u001b[90m━━━━━━━━━━━━━━━━━━━━━━━━━━━━━━━━━━━━━━━━\u001b[0m \u001b[32m8.7/8.7 MB\u001b[0m \u001b[31m90.2 MB/s\u001b[0m eta \u001b[36m0:00:00\u001b[0m\n",
            "\u001b[?25hCollecting grpcio<=1.51.3,>=1.42.0 (from ray)\n",
            "  Downloading grpcio-1.51.3-cp310-cp310-manylinux_2_17_x86_64.manylinux2014_x86_64.whl (4.8 MB)\n",
            "\u001b[2K     \u001b[90m━━━━━━━━━━━━━━━━━━━━━━━━━━━━━━━━━━━━━━━━\u001b[0m \u001b[32m4.8/4.8 MB\u001b[0m \u001b[31m94.7 MB/s\u001b[0m eta \u001b[36m0:00:00\u001b[0m\n",
            "\u001b[?25hRequirement already satisfied: openpyxl>=3.0.4 in /usr/local/lib/python3.10/dist-packages (from celltypist) (3.0.10)\n",
            "Requirement already satisfied: pillow>=7.1.0 in /usr/local/lib/python3.10/dist-packages (from bokeh<2.5.0,>=2.4.0->panel) (8.4.0)\n",
            "Requirement already satisfied: tornado>=5.1 in /usr/local/lib/python3.10/dist-packages (from bokeh<2.5.0,>=2.4.0->panel) (6.3.1)\n",
            "Requirement already satisfied: pycparser in /usr/local/lib/python3.10/dist-packages (from cffi>=1.10.0->rpy2==3.4.5) (2.21)\n",
            "Collecting texttable>=1.6.2 (from igraph<0.11,>=0.10.0->leidenalg)\n",
            "  Downloading texttable-1.6.7-py2.py3-none-any.whl (10 kB)\n",
            "Requirement already satisfied: zipp>=0.5 in /usr/local/lib/python3.10/dist-packages (from importlib-metadata>=1.4->watermark) (3.15.0)\n",
            "Collecting jedi>=0.16 (from ipython>=6.0->watermark)\n",
            "  Downloading jedi-0.18.2-py2.py3-none-any.whl (1.6 MB)\n",
            "\u001b[2K     \u001b[90m━━━━━━━━━━━━━━━━━━━━━━━━━━━━━━━━━━━━━━━━\u001b[0m \u001b[32m1.6/1.6 MB\u001b[0m \u001b[31m71.2 MB/s\u001b[0m eta \u001b[36m0:00:00\u001b[0m\n",
            "\u001b[?25hRequirement already satisfied: decorator in /usr/local/lib/python3.10/dist-packages (from ipython>=6.0->watermark) (4.4.2)\n",
            "Requirement already satisfied: pickleshare in /usr/local/lib/python3.10/dist-packages (from ipython>=6.0->watermark) (0.7.5)\n",
            "Requirement already satisfied: traitlets>=4.2 in /usr/local/lib/python3.10/dist-packages (from ipython>=6.0->watermark) (5.7.1)\n",
            "Requirement already satisfied: prompt-toolkit!=3.0.0,!=3.0.1,<3.1.0,>=2.0.0 in /usr/local/lib/python3.10/dist-packages (from ipython>=6.0->watermark) (3.0.38)\n",
            "Requirement already satisfied: pygments in /usr/local/lib/python3.10/dist-packages (from ipython>=6.0->watermark) (2.14.0)\n",
            "Requirement already satisfied: backcall in /usr/local/lib/python3.10/dist-packages (from ipython>=6.0->watermark) (0.2.0)\n",
            "Requirement already satisfied: matplotlib-inline in /usr/local/lib/python3.10/dist-packages (from ipython>=6.0->watermark) (0.1.6)\n",
            "Requirement already satisfied: pexpect>4.3 in /usr/local/lib/python3.10/dist-packages (from ipython>=6.0->watermark) (4.8.0)\n",
            "Requirement already satisfied: MarkupSafe>=2.0 in /usr/local/lib/python3.10/dist-packages (from jinja2->rpy2==3.4.5) (2.1.2)\n",
            "Requirement already satisfied: contourpy>=1.0.1 in /usr/local/lib/python3.10/dist-packages (from matplotlib>=3.1.1->plotnine==0.8.0) (1.0.7)\n",
            "Requirement already satisfied: cycler>=0.10 in /usr/local/lib/python3.10/dist-packages (from matplotlib>=3.1.1->plotnine==0.8.0) (0.11.0)\n",
            "Requirement already satisfied: fonttools>=4.22.0 in /usr/local/lib/python3.10/dist-packages (from matplotlib>=3.1.1->plotnine==0.8.0) (4.39.3)\n",
            "Requirement already satisfied: kiwisolver>=1.0.1 in /usr/local/lib/python3.10/dist-packages (from matplotlib>=3.1.1->plotnine==0.8.0) (1.4.4)\n",
            "Requirement already satisfied: pyparsing>=2.3.1 in /usr/local/lib/python3.10/dist-packages (from matplotlib>=3.1.1->plotnine==0.8.0) (3.0.9)\n",
            "Requirement already satisfied: palettable in /usr/local/lib/python3.10/dist-packages (from mizani>=0.7.3->plotnine==0.8.0) (3.3.3)\n",
            "Requirement already satisfied: llvmlite<0.40,>=0.39.0dev0 in /usr/local/lib/python3.10/dist-packages (from numba>=0.49->umap-learn==0.5.3) (0.39.1)\n",
            "Requirement already satisfied: et-xmlfile in /usr/local/lib/python3.10/dist-packages (from openpyxl>=3.0.4->celltypist) (1.1.0)\n",
            "Requirement already satisfied: six in /usr/local/lib/python3.10/dist-packages (from patsy>=0.5.1->plotnine==0.8.0) (1.16.0)\n",
            "Collecting xmltodict (from py3nvml>=0.2->watermark)\n",
            "  Downloading xmltodict-0.13.0-py2.py3-none-any.whl (10.0 kB)\n",
            "Requirement already satisfied: urllib3<1.27,>=1.21.1 in /usr/local/lib/python3.10/dist-packages (from requests->panel) (1.26.15)\n",
            "Requirement already satisfied: certifi>=2017.4.17 in /usr/local/lib/python3.10/dist-packages (from requests->panel) (2022.12.7)\n",
            "Requirement already satisfied: charset-normalizer~=2.0.0 in /usr/local/lib/python3.10/dist-packages (from requests->panel) (2.0.12)\n",
            "Requirement already satisfied: idna<4,>=2.5 in /usr/local/lib/python3.10/dist-packages (from requests->panel) (3.4)\n",
            "Requirement already satisfied: threadpoolctl>=2.0.0 in /usr/local/lib/python3.10/dist-packages (from scikit-learn>=0.22->umap-learn==0.5.3) (3.1.0)\n",
            "Collecting distlib<1,>=0.3.6 (from virtualenv<20.21.1,>=20.0.24->ray)\n",
            "  Downloading distlib-0.3.6-py2.py3-none-any.whl (468 kB)\n",
            "\u001b[2K     \u001b[90m━━━━━━━━━━━━━━━━━━━━━━━━━━━━━━━━━━━━━━\u001b[0m \u001b[32m468.5/468.5 kB\u001b[0m \u001b[31m37.8 MB/s\u001b[0m eta \u001b[36m0:00:00\u001b[0m\n",
            "\u001b[?25hRequirement already satisfied: platformdirs<4,>=2.4 in /usr/local/lib/python3.10/dist-packages (from virtualenv<20.21.1,>=20.0.24->ray) (3.3.0)\n",
            "Requirement already satisfied: webencodings in /usr/local/lib/python3.10/dist-packages (from bleach->panel) (0.5.1)\n",
            "Collecting dunamai (from get-version->anndata2ri)\n",
            "  Downloading dunamai-1.17.0-py3-none-any.whl (24 kB)\n",
            "Requirement already satisfied: pyrsistent!=0.17.0,!=0.17.1,!=0.17.2,>=0.14.0 in /usr/local/lib/python3.10/dist-packages (from jsonschema->ray) (0.19.3)\n",
            "Requirement already satisfied: imageio>=2.4.1 in /usr/local/lib/python3.10/dist-packages (from scikit-image->scrublet) (2.25.1)\n",
            "Requirement already satisfied: tifffile>=2019.7.26 in /usr/local/lib/python3.10/dist-packages (from scikit-image->scrublet) (2023.4.12)\n",
            "Requirement already satisfied: PyWavelets>=1.1.1 in /usr/local/lib/python3.10/dist-packages (from scikit-image->scrublet) (1.4.1)\n",
            "Collecting stdlib_list (from session-info->scanpy)\n",
            "  Downloading stdlib_list-0.8.0-py3-none-any.whl (63 kB)\n",
            "\u001b[2K     \u001b[90m━━━━━━━━━━━━━━━━━━━━━━━━━━━━━━━━━━━━━━━━\u001b[0m \u001b[32m63.5/63.5 kB\u001b[0m \u001b[31m7.2 MB/s\u001b[0m eta \u001b[36m0:00:00\u001b[0m\n",
            "\u001b[?25hRequirement already satisfied: pytz-deprecation-shim in /usr/local/lib/python3.10/dist-packages (from tzlocal->rpy2==3.4.5) (0.1.0.post0)\n",
            "Requirement already satisfied: parso<0.9.0,>=0.8.0 in /usr/local/lib/python3.10/dist-packages (from jedi>=0.16->ipython>=6.0->watermark) (0.8.3)\n",
            "Requirement already satisfied: ptyprocess>=0.5 in /usr/local/lib/python3.10/dist-packages (from pexpect>4.3->ipython>=6.0->watermark) (0.7.0)\n",
            "Requirement already satisfied: wcwidth in /usr/local/lib/python3.10/dist-packages (from prompt-toolkit!=3.0.0,!=3.0.1,<3.1.0,>=2.0.0->ipython>=6.0->watermark) (0.2.6)\n",
            "Requirement already satisfied: tzdata in /usr/local/lib/python3.10/dist-packages (from pytz-deprecation-shim->tzlocal->rpy2==3.4.5) (2023.3)\n",
            "Building wheels for collected packages: umap-learn, rpy2, triku, annoy, pynndescent, session-info\n",
            "  Building wheel for umap-learn (setup.py) ... \u001b[?25l\u001b[?25hdone\n",
            "  Created wheel for umap-learn: filename=umap_learn-0.5.3-py3-none-any.whl size=82816 sha256=079dcc44095a98038d1e8626fac7d12529f3522d511b2dc9ada740f0f0611de2\n",
            "  Stored in directory: /root/.cache/pip/wheels/a0/e8/c6/a37ea663620bd5200ea1ba0907ab3c217042c1d035ef606acc\n",
            "  Building wheel for rpy2 (setup.py) ... \u001b[?25l\u001b[?25hdone\n",
            "  Created wheel for rpy2: filename=rpy2-3.4.5-cp310-cp310-linux_x86_64.whl size=297748 sha256=b7e356568addff2032597a1318cf5059d82ebcfc3ac257284fdbad642e0a69c2\n",
            "  Stored in directory: /root/.cache/pip/wheels/ba/d8/8b/68fc240578a71188d0ca04b6fe8a58053fbcbcfbe2a3cbad12\n",
            "  Building wheel for triku (pyproject.toml) ... \u001b[?25l\u001b[?25hdone\n",
            "  Created wheel for triku: filename=triku-2.1.6-py3-none-any.whl size=18962 sha256=8ecb29cde51c5c215e29f65772bf821fb29ab51b799ad158a871368fe51c4f80\n",
            "  Stored in directory: /root/.cache/pip/wheels/46/61/69/8d05bf63e66011edd5afe42f1d57fd4aac9aa65c89db6e7e0d\n",
            "  Building wheel for annoy (setup.py) ... \u001b[?25l\u001b[?25hdone\n",
            "  Created wheel for annoy: filename=annoy-1.17.2-cp310-cp310-linux_x86_64.whl size=582729 sha256=1c05ea9c64915b72e3704da034fb0768896066cb7180c31edb352c9e01d0a784\n",
            "  Stored in directory: /root/.cache/pip/wheels/7a/d9/59/473fa56df8e39430eeda369500b4e7127f5b243ba24c3c4297\n",
            "  Building wheel for pynndescent (setup.py) ... \u001b[?25l\u001b[?25hdone\n",
            "  Created wheel for pynndescent: filename=pynndescent-0.5.10-py3-none-any.whl size=55622 sha256=4a69cbbf3538e15f38c1861ffce5326b1434cdc35e9d9d68b0631115a5e0e5b4\n",
            "  Stored in directory: /root/.cache/pip/wheels/4a/38/5d/f60a40a66a9512b7e5e83517ebc2d1b42d857be97d135f1096\n",
            "  Building wheel for session-info (setup.py) ... \u001b[?25l\u001b[?25hdone\n",
            "  Created wheel for session-info: filename=session_info-1.0.0-py3-none-any.whl size=8026 sha256=7cd6a9d8f3b9e8e1d0c0be8d78cb7dfeb19ca160590c92546e61aaf7b8a6554e\n",
            "  Stored in directory: /root/.cache/pip/wheels/6a/aa/b9/eb5d4031476ec10802795b97ccf937b9bd998d68a9b268765a\n",
            "Successfully built umap-learn rpy2 triku annoy pynndescent session-info\n",
            "Installing collected packages: texttable, stdlib_list, distlib, annoy, xmltodict, virtualenv, setuptools-scm, session-info, jedi, install, importlib-metadata, igraph, grpcio, frozenlist, dunamai, bottleneck, py3nvml, leidenalg, get-version, aiosignal, watermark, rpy2, ray, pynndescent, harmonypy, descartes, anndata, umap-learn, plotnine, mudata, anndata2ri, scrublet, scanpy, bbknn, triku, muon, celltypist\n",
            "  Attempting uninstall: grpcio\n",
            "    Found existing installation: grpcio 1.54.0\n",
            "    Uninstalling grpcio-1.54.0:\n",
            "      Successfully uninstalled grpcio-1.54.0\n",
            "  Attempting uninstall: rpy2\n",
            "    Found existing installation: rpy2 3.5.5\n",
            "    Uninstalling rpy2-3.5.5:\n",
            "      Successfully uninstalled rpy2-3.5.5\n",
            "  Attempting uninstall: plotnine\n",
            "    Found existing installation: plotnine 0.10.1\n",
            "    Uninstalling plotnine-0.10.1:\n",
            "      Successfully uninstalled plotnine-0.10.1\n",
            "Successfully installed aiosignal-1.3.1 anndata-0.9.1 anndata2ri-1.1 annoy-1.17.2 bbknn-1.5.1 bottleneck-1.3.7 celltypist-1.5.0 descartes-1.1.0 distlib-0.3.6 dunamai-1.17.0 frozenlist-1.3.3 get-version-3.5.4 grpcio-1.51.3 harmonypy-0.0.9 igraph-0.10.4 importlib-metadata-6.6.0 install-1.3.5 jedi-0.18.2 leidenalg-0.9.1 mudata-0.2.2 muon-0.1.3 plotnine-0.8.0 py3nvml-0.2.7 pynndescent-0.5.10 ray-2.4.0 rpy2-3.4.5 scanpy-1.9.3 scrublet-0.2.3 session-info-1.0.0 setuptools-scm-7.1.0 stdlib_list-0.8.0 texttable-1.6.7 triku-2.1.6 umap-learn-0.5.3 virtualenv-20.21.0 watermark-2.4.2 xmltodict-0.13.0\n"
          ]
        }
      ],
      "source": [
        "# restart\n",
        "\n",
        "#for python 3.7\n",
        "#!pip install setuptools-scm install scanpy bbknn anndata leidenalg scrublet watermark pandas==1.1.5 umap-learn==0.5.3 plotnine==0.8.0 anndata==0.7.8 panel muon anndata2ri triku ray harmonypy celltypist\n",
        "\n",
        "!pip install setuptools-scm install scanpy bbknn anndata leidenalg scrublet watermark pandas==1.5.3 umap-learn==0.5.3 plotnine==0.8.0 rpy2==3.4.5 numpy==1.22.4 anndata panel muon anndata2ri triku ray harmonypy celltypist\n",
        "##for python>3.8\n",
        "#pip install setuptools-scm install scanpy anndata leidenalg scrublet watermark pandas umap-learn plotnine==0.8.0 gseapy pybiomart git+https://github.com/saezlab/omnipath pip install git+https://github.com/saezlab/decoupler-py git+https://github.com/saezlab/dorothea-py.git install git+https://github.com/afvallejo/squidpy\n",
        "#pandas==1.4.1 umap-learn==0.5.1"
      ]
    },
    {
      "cell_type": "code",
      "source": [
        "!sudo apt-get install -y libharfbuzz-dev libharfbuzz-dev libfribidi-dev libcairo2-dev"
      ],
      "metadata": {
        "colab": {
          "base_uri": "https://localhost:8080/"
        },
        "id": "hYapJkNRooUL",
        "outputId": "2eaee6e5-de01-40e1-9209-0358fee5673d"
      },
      "execution_count": null,
      "outputs": [
        {
          "output_type": "stream",
          "name": "stdout",
          "text": [
            "Reading package lists... Done\n",
            "Building dependency tree       \n",
            "Reading state information... Done\n",
            "The following additional packages will be installed:\n",
            "  gir1.2-harfbuzz-0.0 libblkid-dev libcairo-script-interpreter2 libffi-dev\n",
            "  libglib2.0-dev libglib2.0-dev-bin libgraphite2-dev libharfbuzz-gobject0\n",
            "  libharfbuzz-icu0 liblzo2-2 libmount-dev libpixman-1-dev libselinux1-dev\n",
            "  libsepol1-dev libxcb-render0-dev libxcb-shm0-dev\n",
            "Suggested packages:\n",
            "  libcairo2-doc libgirepository1.0-dev libglib2.0-doc libgdk-pixbuf2.0-bin\n",
            "  | libgdk-pixbuf2.0-dev libxml2-utils libgraphite2-utils\n",
            "The following NEW packages will be installed:\n",
            "  gir1.2-harfbuzz-0.0 libblkid-dev libcairo-script-interpreter2 libcairo2-dev\n",
            "  libffi-dev libfribidi-dev libglib2.0-dev libglib2.0-dev-bin libgraphite2-dev\n",
            "  libharfbuzz-dev libharfbuzz-gobject0 libharfbuzz-icu0 liblzo2-2 libmount-dev\n",
            "  libpixman-1-dev libselinux1-dev libsepol1-dev libxcb-render0-dev\n",
            "  libxcb-shm0-dev\n",
            "0 upgraded, 19 newly installed, 0 to remove and 28 not upgraded.\n",
            "Need to get 4,147 kB of archives.\n",
            "After this operation, 23.5 MB of additional disk space will be used.\n",
            "Get:1 http://archive.ubuntu.com/ubuntu focal-updates/main amd64 gir1.2-harfbuzz-0.0 amd64 2.6.4-1ubuntu4.2 [26.4 kB]\n",
            "Get:2 http://archive.ubuntu.com/ubuntu focal/main amd64 liblzo2-2 amd64 2.10-2 [50.8 kB]\n",
            "Get:3 http://archive.ubuntu.com/ubuntu focal/main amd64 libcairo-script-interpreter2 amd64 1.16.0-4ubuntu1 [54.2 kB]\n",
            "Get:4 http://archive.ubuntu.com/ubuntu focal-updates/main amd64 libpixman-1-dev amd64 0.38.4-0ubuntu2.1 [243 kB]\n",
            "Get:5 http://archive.ubuntu.com/ubuntu focal/main amd64 libxcb-render0-dev amd64 1.14-2 [18.4 kB]\n",
            "Get:6 http://archive.ubuntu.com/ubuntu focal/main amd64 libxcb-shm0-dev amd64 1.14-2 [6,716 B]\n",
            "Get:7 http://archive.ubuntu.com/ubuntu focal/main amd64 libffi-dev amd64 3.3-4 [57.0 kB]\n",
            "Get:8 http://archive.ubuntu.com/ubuntu focal-updates/main amd64 libglib2.0-dev-bin amd64 2.64.6-1~ubuntu20.04.4 [109 kB]\n",
            "Get:9 http://archive.ubuntu.com/ubuntu focal-updates/main amd64 libblkid-dev amd64 2.34-0.1ubuntu9.3 [167 kB]\n",
            "Get:10 http://archive.ubuntu.com/ubuntu focal-updates/main amd64 libmount-dev amd64 2.34-0.1ubuntu9.3 [176 kB]\n",
            "Get:11 http://archive.ubuntu.com/ubuntu focal-updates/main amd64 libsepol1-dev amd64 3.0-1ubuntu0.1 [325 kB]\n",
            "Get:12 http://archive.ubuntu.com/ubuntu focal/main amd64 libselinux1-dev amd64 3.0-1build2 [151 kB]\n",
            "Get:13 http://archive.ubuntu.com/ubuntu focal-updates/main amd64 libglib2.0-dev amd64 2.64.6-1~ubuntu20.04.4 [1,506 kB]\n",
            "Get:14 http://archive.ubuntu.com/ubuntu focal/main amd64 libcairo2-dev amd64 1.16.0-4ubuntu1 [627 kB]\n",
            "Get:15 http://archive.ubuntu.com/ubuntu focal-updates/main amd64 libfribidi-dev amd64 1.0.8-2ubuntu0.1 [62.3 kB]\n",
            "Get:16 http://archive.ubuntu.com/ubuntu focal/main amd64 libgraphite2-dev amd64 1.3.13-11build1 [14.7 kB]\n",
            "Get:17 http://archive.ubuntu.com/ubuntu focal-updates/main amd64 libharfbuzz-icu0 amd64 2.6.4-1ubuntu4.2 [5,580 B]\n",
            "Get:18 http://archive.ubuntu.com/ubuntu focal-updates/main amd64 libharfbuzz-gobject0 amd64 2.6.4-1ubuntu4.2 [20.4 kB]\n",
            "Get:19 http://archive.ubuntu.com/ubuntu focal-updates/main amd64 libharfbuzz-dev amd64 2.6.4-1ubuntu4.2 [526 kB]\n",
            "Fetched 4,147 kB in 5s (848 kB/s)\n",
            "debconf: unable to initialize frontend: Dialog\n",
            "debconf: (No usable dialog-like program is installed, so the dialog based frontend cannot be used. at /usr/share/perl5/Debconf/FrontEnd/Dialog.pm line 76, <> line 19.)\n",
            "debconf: falling back to frontend: Readline\n",
            "debconf: unable to initialize frontend: Readline\n",
            "debconf: (This frontend requires a controlling tty.)\n",
            "debconf: falling back to frontend: Teletype\n",
            "dpkg-preconfigure: unable to re-open stdin: \n",
            "Selecting previously unselected package gir1.2-harfbuzz-0.0:amd64.\n",
            "(Reading database ... 122532 files and directories currently installed.)\n",
            "Preparing to unpack .../00-gir1.2-harfbuzz-0.0_2.6.4-1ubuntu4.2_amd64.deb ...\n",
            "Unpacking gir1.2-harfbuzz-0.0:amd64 (2.6.4-1ubuntu4.2) ...\n",
            "Selecting previously unselected package liblzo2-2:amd64.\n",
            "Preparing to unpack .../01-liblzo2-2_2.10-2_amd64.deb ...\n",
            "Unpacking liblzo2-2:amd64 (2.10-2) ...\n",
            "Selecting previously unselected package libcairo-script-interpreter2:amd64.\n",
            "Preparing to unpack .../02-libcairo-script-interpreter2_1.16.0-4ubuntu1_amd64.deb ...\n",
            "Unpacking libcairo-script-interpreter2:amd64 (1.16.0-4ubuntu1) ...\n",
            "Selecting previously unselected package libpixman-1-dev:amd64.\n",
            "Preparing to unpack .../03-libpixman-1-dev_0.38.4-0ubuntu2.1_amd64.deb ...\n",
            "Unpacking libpixman-1-dev:amd64 (0.38.4-0ubuntu2.1) ...\n",
            "Selecting previously unselected package libxcb-render0-dev:amd64.\n",
            "Preparing to unpack .../04-libxcb-render0-dev_1.14-2_amd64.deb ...\n",
            "Unpacking libxcb-render0-dev:amd64 (1.14-2) ...\n",
            "Selecting previously unselected package libxcb-shm0-dev:amd64.\n",
            "Preparing to unpack .../05-libxcb-shm0-dev_1.14-2_amd64.deb ...\n",
            "Unpacking libxcb-shm0-dev:amd64 (1.14-2) ...\n",
            "Selecting previously unselected package libffi-dev:amd64.\n",
            "Preparing to unpack .../06-libffi-dev_3.3-4_amd64.deb ...\n",
            "Unpacking libffi-dev:amd64 (3.3-4) ...\n",
            "Selecting previously unselected package libglib2.0-dev-bin.\n",
            "Preparing to unpack .../07-libglib2.0-dev-bin_2.64.6-1~ubuntu20.04.4_amd64.deb ...\n",
            "Unpacking libglib2.0-dev-bin (2.64.6-1~ubuntu20.04.4) ...\n",
            "Selecting previously unselected package libblkid-dev:amd64.\n",
            "Preparing to unpack .../08-libblkid-dev_2.34-0.1ubuntu9.3_amd64.deb ...\n",
            "Unpacking libblkid-dev:amd64 (2.34-0.1ubuntu9.3) ...\n",
            "Selecting previously unselected package libmount-dev:amd64.\n",
            "Preparing to unpack .../09-libmount-dev_2.34-0.1ubuntu9.3_amd64.deb ...\n",
            "Unpacking libmount-dev:amd64 (2.34-0.1ubuntu9.3) ...\n",
            "Selecting previously unselected package libsepol1-dev:amd64.\n",
            "Preparing to unpack .../10-libsepol1-dev_3.0-1ubuntu0.1_amd64.deb ...\n",
            "Unpacking libsepol1-dev:amd64 (3.0-1ubuntu0.1) ...\n",
            "Selecting previously unselected package libselinux1-dev:amd64.\n",
            "Preparing to unpack .../11-libselinux1-dev_3.0-1build2_amd64.deb ...\n",
            "Unpacking libselinux1-dev:amd64 (3.0-1build2) ...\n",
            "Selecting previously unselected package libglib2.0-dev:amd64.\n",
            "Preparing to unpack .../12-libglib2.0-dev_2.64.6-1~ubuntu20.04.4_amd64.deb ...\n",
            "Unpacking libglib2.0-dev:amd64 (2.64.6-1~ubuntu20.04.4) ...\n",
            "Selecting previously unselected package libcairo2-dev:amd64.\n",
            "Preparing to unpack .../13-libcairo2-dev_1.16.0-4ubuntu1_amd64.deb ...\n",
            "Unpacking libcairo2-dev:amd64 (1.16.0-4ubuntu1) ...\n",
            "Selecting previously unselected package libfribidi-dev:amd64.\n",
            "Preparing to unpack .../14-libfribidi-dev_1.0.8-2ubuntu0.1_amd64.deb ...\n",
            "Unpacking libfribidi-dev:amd64 (1.0.8-2ubuntu0.1) ...\n",
            "Selecting previously unselected package libgraphite2-dev:amd64.\n",
            "Preparing to unpack .../15-libgraphite2-dev_1.3.13-11build1_amd64.deb ...\n",
            "Unpacking libgraphite2-dev:amd64 (1.3.13-11build1) ...\n",
            "Selecting previously unselected package libharfbuzz-icu0:amd64.\n",
            "Preparing to unpack .../16-libharfbuzz-icu0_2.6.4-1ubuntu4.2_amd64.deb ...\n",
            "Unpacking libharfbuzz-icu0:amd64 (2.6.4-1ubuntu4.2) ...\n",
            "Selecting previously unselected package libharfbuzz-gobject0:amd64.\n",
            "Preparing to unpack .../17-libharfbuzz-gobject0_2.6.4-1ubuntu4.2_amd64.deb ...\n",
            "Unpacking libharfbuzz-gobject0:amd64 (2.6.4-1ubuntu4.2) ...\n",
            "Selecting previously unselected package libharfbuzz-dev:amd64.\n",
            "Preparing to unpack .../18-libharfbuzz-dev_2.6.4-1ubuntu4.2_amd64.deb ...\n",
            "Unpacking libharfbuzz-dev:amd64 (2.6.4-1ubuntu4.2) ...\n",
            "Setting up libglib2.0-dev-bin (2.64.6-1~ubuntu20.04.4) ...\n",
            "Setting up libblkid-dev:amd64 (2.34-0.1ubuntu9.3) ...\n",
            "Setting up libharfbuzz-icu0:amd64 (2.6.4-1ubuntu4.2) ...\n",
            "Setting up libpixman-1-dev:amd64 (0.38.4-0ubuntu2.1) ...\n",
            "Setting up libfribidi-dev:amd64 (1.0.8-2ubuntu0.1) ...\n",
            "Setting up libsepol1-dev:amd64 (3.0-1ubuntu0.1) ...\n",
            "Setting up liblzo2-2:amd64 (2.10-2) ...\n",
            "Setting up libharfbuzz-gobject0:amd64 (2.6.4-1ubuntu4.2) ...\n",
            "Setting up libffi-dev:amd64 (3.3-4) ...\n",
            "Setting up gir1.2-harfbuzz-0.0:amd64 (2.6.4-1ubuntu4.2) ...\n",
            "Setting up libxcb-shm0-dev:amd64 (1.14-2) ...\n",
            "Setting up libgraphite2-dev:amd64 (1.3.13-11build1) ...\n",
            "Setting up libxcb-render0-dev:amd64 (1.14-2) ...\n",
            "Setting up libmount-dev:amd64 (2.34-0.1ubuntu9.3) ...\n",
            "Setting up libcairo-script-interpreter2:amd64 (1.16.0-4ubuntu1) ...\n",
            "Setting up libselinux1-dev:amd64 (3.0-1build2) ...\n",
            "Setting up libglib2.0-dev:amd64 (2.64.6-1~ubuntu20.04.4) ...\n",
            "Processing triggers for libglib2.0-0:amd64 (2.64.6-1~ubuntu20.04.4) ...\n",
            "Processing triggers for libc-bin (2.31-0ubuntu9.9) ...\n",
            "Processing triggers for man-db (2.9.1-1) ...\n",
            "Setting up libcairo2-dev:amd64 (1.16.0-4ubuntu1) ...\n",
            "Setting up libharfbuzz-dev:amd64 (2.6.4-1ubuntu4.2) ...\n"
          ]
        }
      ]
    },
    {
      "cell_type": "code",
      "source": [
        "!pip install matplotlib==3.5.1"
      ],
      "metadata": {
        "id": "_T8oIT5sC-GK",
        "colab": {
          "base_uri": "https://localhost:8080/",
          "height": 446
        },
        "outputId": "ce915b3f-cae5-4940-f19a-1aade6576de6"
      },
      "execution_count": null,
      "outputs": [
        {
          "output_type": "stream",
          "name": "stdout",
          "text": [
            "Looking in indexes: https://pypi.org/simple, https://us-python.pkg.dev/colab-wheels/public/simple/\n",
            "Collecting matplotlib==3.5.1\n",
            "  Downloading matplotlib-3.5.1-cp310-cp310-manylinux_2_17_x86_64.manylinux2014_x86_64.whl (11.9 MB)\n",
            "\u001b[2K     \u001b[90m━━━━━━━━━━━━━━━━━━━━━━━━━━━━━━━━━━━━━━━━\u001b[0m \u001b[32m11.9/11.9 MB\u001b[0m \u001b[31m83.5 MB/s\u001b[0m eta \u001b[36m0:00:00\u001b[0m\n",
            "\u001b[?25hRequirement already satisfied: cycler>=0.10 in /usr/local/lib/python3.10/dist-packages (from matplotlib==3.5.1) (0.11.0)\n",
            "Requirement already satisfied: fonttools>=4.22.0 in /usr/local/lib/python3.10/dist-packages (from matplotlib==3.5.1) (4.39.3)\n",
            "Requirement already satisfied: kiwisolver>=1.0.1 in /usr/local/lib/python3.10/dist-packages (from matplotlib==3.5.1) (1.4.4)\n",
            "Requirement already satisfied: numpy>=1.17 in /usr/local/lib/python3.10/dist-packages (from matplotlib==3.5.1) (1.22.4)\n",
            "Requirement already satisfied: packaging>=20.0 in /usr/local/lib/python3.10/dist-packages (from matplotlib==3.5.1) (23.1)\n",
            "Requirement already satisfied: pillow>=6.2.0 in /usr/local/lib/python3.10/dist-packages (from matplotlib==3.5.1) (8.4.0)\n",
            "Requirement already satisfied: pyparsing>=2.2.1 in /usr/local/lib/python3.10/dist-packages (from matplotlib==3.5.1) (3.0.9)\n",
            "Requirement already satisfied: python-dateutil>=2.7 in /usr/local/lib/python3.10/dist-packages (from matplotlib==3.5.1) (2.8.2)\n",
            "Requirement already satisfied: six>=1.5 in /usr/local/lib/python3.10/dist-packages (from python-dateutil>=2.7->matplotlib==3.5.1) (1.16.0)\n",
            "Installing collected packages: matplotlib\n",
            "  Attempting uninstall: matplotlib\n",
            "    Found existing installation: matplotlib 3.7.1\n",
            "    Uninstalling matplotlib-3.7.1:\n",
            "      Successfully uninstalled matplotlib-3.7.1\n",
            "Successfully installed matplotlib-3.5.1\n"
          ]
        },
        {
          "output_type": "display_data",
          "data": {
            "application/vnd.colab-display-data+json": {
              "pip_warning": {
                "packages": [
                  "matplotlib",
                  "mpl_toolkits"
                ]
              }
            }
          },
          "metadata": {}
        }
      ]
    },
    {
      "cell_type": "markdown",
      "metadata": {
        "id": "3T0ylKgjx1tX"
      },
      "source": [
        "## Import packages"
      ]
    },
    {
      "cell_type": "markdown",
      "metadata": {
        "id": "oLJWj510x1tX"
      },
      "source": [
        "If you want modules to be automatically reloaded when you call them, use `autoreload`:"
      ]
    },
    {
      "cell_type": "code",
      "execution_count": null,
      "metadata": {
        "id": "Id5tG_KO5R_8"
      },
      "outputs": [],
      "source": [
        "%load_ext autoreload\n",
        "%autoreload 2"
      ]
    },
    {
      "cell_type": "code",
      "execution_count": null,
      "metadata": {
        "id": "LcYt4J4pUi3c"
      },
      "outputs": [],
      "source": [
        "import scanpy as sc\n",
        "import numpy as np\n",
        "import re\n",
        "import os\n",
        "import pandas as pd\n",
        "import seaborn as sb\n",
        "import matplotlib\n",
        "import scipy.sparse as sp\n",
        "from scipy.sparse import issparse\n",
        "#import \n",
        "#import anndata2ri\n",
        "import triku as tk\n",
        "import re\n",
        "\n",
        "import matplotlib as mpl\n",
        "from scipy import stats as scistats\n",
        "import matplotlib.pyplot as pl\n",
        "import scanpy.external as sce\n",
        "from matplotlib import colors\n",
        "from pathlib import Path\n",
        "from ipywidgets import interactive\n",
        "\n",
        "import celltypist\n",
        "from celltypist import models\n",
        "\n",
        "import muon as mu\n",
        "from muon import prot as pt\n",
        "\n",
        "%matplotlib inline\n",
        "#import panel as pn\n",
        "#pn.extension(sizing_mode=\"stretch_width\", comms='colab')\n",
        "#pn.extension( comms='colab')\n"
      ]
    },
    {
      "cell_type": "code",
      "execution_count": null,
      "metadata": {
        "colab": {
          "base_uri": "https://localhost:8080/"
        },
        "id": "G4JoOtixjlbk",
        "outputId": "976b8b4a-5909-4997-ca7e-da18653d7e6e"
      },
      "outputs": [
        {
          "output_type": "stream",
          "name": "stdout",
          "text": [
            "Pretty printing has been turned OFF\n",
            "25052023-153937\n"
          ]
        }
      ],
      "source": [
        "%pprint\n",
        "import time\n",
        "timestr = time.strftime(\"%d%m%Y-%H%M%S\")\n",
        "print(timestr)"
      ]
    },
    {
      "cell_type": "code",
      "execution_count": null,
      "metadata": {
        "id": "eQST_Ki8gFho"
      },
      "outputs": [],
      "source": [
        "# R integration\n",
        "import anndata2ri\n",
        "import logging\n",
        "import rpy2.rinterface_lib.callbacks as rcb\n",
        "import rpy2.robjects as ro\n",
        "sc.settings.verbosity = 0\n",
        "sc.settings.set_figure_params(\n",
        "    dpi=80,\n",
        "    facecolor=\"white\",\n",
        "    # color_map=\"YlGnBu\",\n",
        "    frameon=False,\n",
        ")\n",
        "\n",
        "rcb.logger.setLevel(logging.ERROR)\n",
        "ro.pandas2ri.activate()\n",
        "anndata2ri.activate()\n",
        "\n",
        "%load_ext rpy2.ipython\n",
        "#from rpy2.robjects.packages import importr\n",
        "#from rpy2.robjects.vectors import StrVector, FloatVector, ListVector\n",
        "#import rpy2.robjects as ro\n",
        "#import anndata2ri\n",
        "#import rpy2.rinterface_lib.callbacks\n",
        "#import logging\n",
        "#from rpy2.robjects import pandas2ri, numpy2ri, r\n",
        "#%load_ext rpy2.ipython"
      ]
    },
    {
      "cell_type": "code",
      "source": [
        "from statistics import mean\n",
        "from statistics import median"
      ],
      "metadata": {
        "id": "Bq1clUqMPup3"
      },
      "execution_count": null,
      "outputs": []
    },
    {
      "cell_type": "markdown",
      "metadata": {
        "id": "E0auuTHF6H-Q"
      },
      "source": [
        "#Reproducibility"
      ]
    },
    {
      "cell_type": "markdown",
      "source": [
        "#Print package versions"
      ],
      "metadata": {
        "id": "IYhDxX_1hMLE"
      }
    },
    {
      "cell_type": "code",
      "execution_count": null,
      "metadata": {
        "id": "OUmuZvvsSj6U",
        "colab": {
          "base_uri": "https://localhost:8080/"
        },
        "outputId": "c92f769b-80de-44a1-bcf8-ea9e29a077ac"
      },
      "outputs": [
        {
          "output_type": "stream",
          "name": "stdout",
          "text": [
            "Last updated: 2023-05-25T15:39:40.967262+00:00\n",
            "\n",
            "Python implementation: CPython\n",
            "Python version       : 3.10.11\n",
            "IPython version      : 7.34.0\n",
            "\n",
            "Compiler    : GCC 9.4.0\n",
            "OS          : Linux\n",
            "Release     : 5.15.107+\n",
            "Machine     : x86_64\n",
            "Processor   : x86_64\n",
            "CPU cores   : 8\n",
            "Architecture: 64bit\n",
            "\n",
            "Python implementation: CPython\n",
            "Python version       : 3.10.11\n",
            "IPython version      : 7.34.0\n",
            "\n",
            "numpy     : 1.22.4\n",
            "scipy     : 1.10.1\n",
            "sklearn   : 1.2.2\n",
            "anndata   : 0.9.1\n",
            "scanpy    : 1.9.3\n",
            "muon      : 0.1.3\n",
            "anndata2ri: 1.1\n",
            "rpy2      : 3.4.5\n",
            "triku     : 2.1.6\n",
            "\n",
            "Compiler    : GCC 9.4.0\n",
            "OS          : Linux\n",
            "Release     : 5.15.107+\n",
            "Machine     : x86_64\n",
            "Processor   : x86_64\n",
            "CPU cores   : 8\n",
            "Architecture: 64bit\n",
            "\n",
            "anndata2ri: 1.1\n",
            "re        : 2.2.1\n",
            "triku     : 2.1.6\n",
            "scanpy    : 1.9.3\n",
            "pandas    : 1.5.3\n",
            "celltypist: 1.5.0\n",
            "matplotlib: 3.5.1\n",
            "seaborn   : 0.12.2\n",
            "scipy     : 1.10.1\n",
            "numpy     : 1.22.4\n",
            "muon      : 0.1.3\n",
            "rpy2      : 3.4.5\n",
            "logging   : 0.5.1.2\n",
            "\n"
          ]
        }
      ],
      "source": [
        "%load_ext watermark\n",
        "%watermark\n",
        "%watermark --iversions -v -m -p numpy,scipy,sklearn,anndata,scanpy,muon,anndata2ri,rpy2,triku"
      ]
    },
    {
      "cell_type": "markdown",
      "metadata": {
        "id": "hSP5BQOUx1ta"
      },
      "source": [
        "## Set global parameters"
      ]
    },
    {
      "cell_type": "markdown",
      "metadata": {
        "id": "X9oVqz6Ix1tb"
      },
      "source": [
        "Set some plotting parameters."
      ]
    },
    {
      "cell_type": "code",
      "execution_count": null,
      "metadata": {
        "id": "dMCAMRxpx1tb"
      },
      "outputs": [],
      "source": [
        "sc._settings.ScanpyConfig.n_jobs=8\n",
        "\n",
        "pl.rcParams['pdf.fonttype'] = 'truetype'\n",
        "sc.set_figure_params(vector_friendly=False,dpi_save=300,transparent=True)\n",
        "pl.rcParams['lines.linewidth'] = 0.1\n",
        "#sc.set_figure_params(color_map='viridis')\n",
        "#colorsComb = np.vstack([pl.cm.Reds(np.linspace(0, 1, 10)), pl.cm.Greys_r(np.linspace(0.7, 0.8, 0))])\n",
        "#mymap = colors.LinearSegmentedColormap.from_list('my_colormap', colorsComb)\n"
      ]
    },
    {
      "cell_type": "markdown",
      "metadata": {
        "id": "EZYrLSfqx1tb"
      },
      "source": [
        "Set other global parameters"
      ]
    },
    {
      "cell_type": "code",
      "execution_count": null,
      "metadata": {
        "id": "-CHlgpSIx1tb"
      },
      "outputs": [],
      "source": [
        "random_state=42 \n",
        "# should figures just be displayed or also saved?\n",
        "save_figure = False\n",
        "\n",
        "# should cashed values be used, or recompute?\n",
        "force_recompute = False"
      ]
    },
    {
      "cell_type": "code",
      "execution_count": null,
      "metadata": {
        "id": "U4NYxVK5_jLL",
        "cellView": "form"
      },
      "outputs": [],
      "source": [
        "#@title load accesory funtions\n",
        "#@markdown\n",
        "\"\"\"Functions for downstream work with outputs of remove-background.\"\"\"\n",
        "\n",
        "import tables\n",
        "import numpy as np\n",
        "import scipy.sparse as sp\n",
        "from typing import Dict\n",
        "\n",
        "\n",
        "def dict_from_h5(file: str) -> Dict[str, np.ndarray]:\n",
        "    \"\"\"Read in everything from an h5 file and put into a dictionary.\"\"\"\n",
        "    d = {}\n",
        "    with tables.open_file(file) as f:\n",
        "        # read in everything\n",
        "        for array in f.walk_nodes(\"/\", \"Array\"):\n",
        "            d[array.name] = array.read()\n",
        "    return d\n",
        "\n",
        "\n",
        "def anndata_from_h5(file: str,\n",
        "                    analyzed_barcodes_only: bool = True) -> 'anndata.AnnData':\n",
        "    \"\"\"Load an output h5 file into an AnnData object for downstream work.\n",
        "\n",
        "    Args:\n",
        "        file: The h5 file\n",
        "        analyzed_barcodes_only: False to load all barcodes, so that the size of\n",
        "            the AnnData object will match the size of the input raw count matrix.\n",
        "            True to load a limited set of barcodes: only those analyzed by the\n",
        "            algorithm. This allows relevant latent variables to be loaded\n",
        "            properly into adata.obs and adata.obsm, rather than adata.uns.\n",
        "\n",
        "    Returns:\n",
        "        adata: The anndata object, populated with inferred latent variables\n",
        "            and metadata.\n",
        "\n",
        "    \"\"\"\n",
        "\n",
        "    try:\n",
        "        import anndata\n",
        "    except ImportError:\n",
        "        raise ImportError('The anndata package must be installed to use the '\n",
        "                          'function anndata_from_h5()')\n",
        "\n",
        "    d = dict_from_h5(file)\n",
        "    X = sp.csc_matrix((d.pop('data'), d.pop('indices'), d.pop('indptr')),\n",
        "                      shape=d.pop('shape')).transpose().tocsr()\n",
        "\n",
        "    if analyzed_barcodes_only:\n",
        "        if 'barcodes_analyzed_inds' in d.keys():\n",
        "            X = X[d['barcodes_analyzed_inds'], :]\n",
        "            d['barcodes'] = d['barcodes'][d['barcodes_analyzed_inds']]\n",
        "        elif 'barcode_indices_for_latents' in d.keys():\n",
        "            X = X[d['barcode_indices_for_latents'], :]\n",
        "            d['barcodes'] = d['barcodes'][d['barcode_indices_for_latents']]\n",
        "        else:\n",
        "            print('Warning: analyzed_barcodes_only=True, but the key '\n",
        "                  '\"barcodes_analyzed_inds\" or \"barcode_indices_for_latents\" '\n",
        "                  'is missing from the h5 file. '\n",
        "                  'Will output all barcodes, and proceed as if '\n",
        "                  'analyzed_barcodes_only=False')\n",
        "\n",
        "    # Construct the count matrix.\n",
        "    adata = anndata.AnnData(X=X,\n",
        "                            obs={'barcode': d.pop('barcodes').astype(str)},\n",
        "                            var={'gene_name': (d.pop('gene_names') if 'gene_names' in d.keys()\n",
        "                                               else d.pop('name')).astype(str)})\n",
        "    adata.obs.set_index('barcode', inplace=True)\n",
        "    adata.var.set_index('gene_name', inplace=True)\n",
        "\n",
        "    # Add other information to the adata object in the appropriate slot.\n",
        "    for key, value in d.items():\n",
        "        try:\n",
        "            value = np.asarray(value)\n",
        "            if len(value.shape) == 0:\n",
        "                adata.uns[key] = value\n",
        "            elif value.shape[0] == X.shape[0]:\n",
        "                if (len(value.shape) < 2) or (value.shape[1] < 2):\n",
        "                    adata.obs[key] = value\n",
        "                else:\n",
        "                    adata.obsm[key] = value\n",
        "            elif value.shape[0] == X.shape[1]:\n",
        "                if value.dtype.name.startswith('bytes'):\n",
        "                    adata.var[key] = value.astype(str)\n",
        "                else:\n",
        "                    adata.var[key] = value\n",
        "            else:\n",
        "                adata.uns[key] = value\n",
        "        except Exception:\n",
        "            print('Unable to load data into AnnData: ', key, value, type(value))\n",
        "\n",
        "    if analyzed_barcodes_only:\n",
        "        for col in adata.obs.columns[adata.obs.columns.str.startswith('barcodes_analyzed')\n",
        "                                     | adata.obs.columns.str.startswith('barcode_indices')]:\n",
        "            try:\n",
        "                del adata.obs[col]\n",
        "            except Exception:\n",
        "                pass\n",
        "\n",
        "    return adata\n",
        "\n",
        "\n",
        "def load_anndata_from_input_and_output(input_file: str,\n",
        "                                       output_file: str,\n",
        "                                       analyzed_barcodes_only: bool = True,\n",
        "                                       input_layer_key: str = 'cellranger') -> 'anndata.AnnData':\n",
        "    \"\"\"Load remove-background output count matrix into an anndata object,\n",
        "    together with remove-background metadata and the raw input counts.\n",
        "\n",
        "    Args:\n",
        "        input_file: Raw h5 file used as input for remove-background.\n",
        "        output_file: Output h5 file created by remove-background (can be\n",
        "            filtered or not).\n",
        "        analyzed_barcodes_only: Argument passed to anndata_from_h5().\n",
        "            False to load all barcodes, so that the size of\n",
        "            the AnnData object will match the size of the input raw count matrix.\n",
        "            True to load a limited set of barcodes: only those analyzed by the\n",
        "            algorithm. This allows relevant latent variables to be loaded\n",
        "            properly into adata.obs and adata.obsm, rather than adata.uns.\n",
        "        input_layer_key: Key of the anndata.layer that is created for the raw\n",
        "            input count matrix.\n",
        "\n",
        "    Return:\n",
        "        adata_out: AnnData object with counts before and after remove-background,\n",
        "            as well as inferred latent variables from remove-background.\n",
        "\n",
        "    \"\"\"\n",
        "\n",
        "    # Load input data.\n",
        "    adata_raw = anndata_from_h5(input_file, analyzed_barcodes_only=False)\n",
        "\n",
        "    # Load remove-background output data.\n",
        "    adata_out = anndata_from_h5(output_file, analyzed_barcodes_only=analyzed_barcodes_only)\n",
        "\n",
        "    # Subset the raw dataset to the relevant barcodes.\n",
        "    adata_raw = adata_raw[adata_out.obs.index]\n",
        "\n",
        "    # Put count matrices into 'layers' in anndata for clarity.\n",
        "    adata_out.layers[input_layer_key] = adata_raw.X.copy()\n",
        "    adata_out.layers['cellbender'] = adata_out.X.copy()\n",
        "\n",
        "    # Pre-compute a bit of metadata.\n",
        "    adata_out.var['n_cellranger'] = np.array(adata_out.layers['cellranger'].sum(axis=0)).squeeze()\n",
        "    adata_out.var['n_cellbender'] = np.array(adata_out.layers['cellbender'].sum(axis=0)).squeeze()\n",
        "\n",
        "    return adata_out"
      ]
    },
    {
      "cell_type": "markdown",
      "source": [
        "#Set WD and load data"
      ],
      "metadata": {
        "id": "7ZseyyXvwcni"
      }
    },
    {
      "cell_type": "code",
      "source": [
        "#Change XXX to sample name\n",
        "#folder='/content/'\n",
        "\n",
        "\n",
        "folder='/content/drive/MyDrive/CIP_v3_data/Methods_Comparison/'\n",
        "\n",
        "samplename='Methods_Comparison_v3'\n",
        "random_state=42\n",
        "\n",
        "\n",
        "import os\n",
        "os.chdir(folder)"
      ],
      "metadata": {
        "id": "NFn2oOjCwbqg"
      },
      "execution_count": null,
      "outputs": []
    },
    {
      "cell_type": "markdown",
      "source": [
        "#Methods comparison QC metrics printing"
      ],
      "metadata": {
        "id": "f5WvmGNXxAGi"
      }
    },
    {
      "cell_type": "code",
      "source": [
        "adata=sc.read(samplename+'_QCfilteredNormalized_Harmony_Triku_Neighbors_annotated_20230221.h5ad')\n",
        "adata"
      ],
      "metadata": {
        "id": "o-z7_Ov3wtI4",
        "colab": {
          "base_uri": "https://localhost:8080/"
        },
        "outputId": "ef56e479-b69a-4af4-f446-df28779ba743"
      },
      "execution_count": null,
      "outputs": [
        {
          "output_type": "execute_result",
          "data": {
            "text/plain": [
              "AnnData object with n_obs × n_vars = 33906 × 19596\n",
              "    obs: 'sample', 'donor', 'date', 'n_counts', 'log_counts', 'n_genes', 'mt_frac', 'n_genes_by_counts', 'log1p_n_genes_by_counts', 'total_counts', 'log1p_total_counts', 'pct_counts_in_top_50_genes', 'pct_counts_in_top_100_genes', 'pct_counts_in_top_200_genes', 'pct_counts_in_top_500_genes', 'total_counts_mito', 'log1p_total_counts_mito', 'pct_counts_mito', 'scDblFinder_class', 'doublet_score', 'predicted_doublet', 'condition', 'batch', 'total_counts_mt', 'pct_counts_mt', 'total_counts_rb', 'pct_counts_rb', 'QC', 'S_score', 'G2M_score', 'phase', 'leiden_r0.8', 'leiden_r0.5', 'leiden_r0.4', 'leiden_r0.3', 'leiden_r0.2', 'Acinar', 'ADM', 'Ductal', 'leiden_r0.1', 'annotated', 'annotated2'\n",
              "    var: 'feature_type', 'id', 'mito', 'n_cells', 'mt', 'rb', 'n_cells_by_counts', 'mean_counts', 'pct_dropout_by_counts', 'total_counts', 'highly_variable', 'triku_distance', 'triku_distance_uncorrected', 'triku_highly_variable'\n",
              "    uns: 'QC_colors', 'annotated2_colors', 'annotated_colors', 'donor_colors', 'leiden', 'leiden_r0.1_colors', 'leiden_r0.2_colors', 'leiden_r0.3_colors', 'leiden_r0.4_colors', 'leiden_r0.5_colors', 'leiden_r0.8_colors', 'logreg_rank_genes_groups', 'neighbors', 'pca', 'phase_colors', 'predicted_doublet_colors', 'sample_colors', 'scDblFinder_class_colors', 'ttest_rank_genes_groups', 'umap', 'wilcoxon_rank_genes_groups'\n",
              "    obsm: 'X_pca', 'X_pca_harmony', 'X_triku', 'X_umap'\n",
              "    varm: 'PCs'\n",
              "    layers: 'PFlog1pPF_normalization', 'cellbender', 'cellranger', 'counts', 'log1pPF_normalization', 'log_norm'\n",
              "    obsp: 'connectivities', 'distances'"
            ]
          },
          "metadata": {},
          "execution_count": 24
        }
      ]
    },
    {
      "cell_type": "code",
      "source": [
        "list_of_donors = [\"control_1\",\"control_2\",\"control_3\",\"control_4\",\"control_5\",\"P_1\",\"S_1\",\"S_2\",\"S_3\",\"S_4\"]\n",
        "for d in list_of_donors:\n",
        "    print('average n_counts for '+d)\n",
        "    print(mean(adata[adata.obs[\"donor\"]==d].obs['n_counts']))"
      ],
      "metadata": {
        "colab": {
          "base_uri": "https://localhost:8080/"
        },
        "id": "ioVfGemyP1EX",
        "outputId": "8eea0e8e-58dc-4e27-d082-b41dee4745d0"
      },
      "execution_count": null,
      "outputs": [
        {
          "output_type": "stream",
          "name": "stdout",
          "text": [
            "average n_counts for control_1\n",
            "6687.879279279279\n",
            "average n_counts for control_2\n",
            "6142.362807295797\n",
            "average n_counts for control_3\n",
            "4277.9522113386765\n",
            "average n_counts for control_4\n",
            "6551.711380880121\n",
            "average n_counts for control_5\n",
            "8541.665058788061\n",
            "average n_counts for P_1\n",
            "9583.543565037853\n",
            "average n_counts for S_1\n",
            "4212.468215158924\n",
            "average n_counts for S_2\n",
            "4031.285885885886\n",
            "average n_counts for S_3\n",
            "4384.505403687222\n",
            "average n_counts for S_4\n",
            "4107.955352032055\n"
          ]
        }
      ]
    },
    {
      "cell_type": "code",
      "source": [
        "list_of_donors = [\"control_1\",\"control_2\",\"control_3\",\"control_4\",\"control_5\",\"P_1\",\"S_1\",\"S_2\",\"S_3\",\"S_4\"]\n",
        "for d in list_of_donors:\n",
        "    print('average n_genes for '+d)\n",
        "    print(mean(adata[adata.obs[\"donor\"]==d].obs['n_genes']))"
      ],
      "metadata": {
        "colab": {
          "base_uri": "https://localhost:8080/"
        },
        "id": "Jt4WxBF5QL3L",
        "outputId": "7b2c39af-c2cd-48f4-b560-0d8a20554ba0"
      },
      "execution_count": null,
      "outputs": [
        {
          "output_type": "stream",
          "name": "stdout",
          "text": [
            "average n_counts for control_1\n",
            "1506.5481481481481\n",
            "average n_counts for control_2\n",
            "1406.146510705789\n",
            "average n_counts for control_3\n",
            "829.782428020184\n",
            "average n_counts for control_4\n",
            "1522.3948406676784\n",
            "average n_counts for control_5\n",
            "1677.2809767862527\n",
            "average n_counts for P_1\n",
            "2305.541637990365\n",
            "average n_counts for S_1\n",
            "1711.4083129584353\n",
            "average n_counts for S_2\n",
            "1755.4612612612614\n",
            "average n_counts for S_3\n",
            "1874.2390336935791\n",
            "average n_counts for S_4\n",
            "1797.6783056668576\n"
          ]
        }
      ]
    },
    {
      "cell_type": "code",
      "source": [
        "print(adata.obs['donor'].value_counts())"
      ],
      "metadata": {
        "colab": {
          "base_uri": "https://localhost:8080/"
        },
        "id": "DkaiOglmw7kZ",
        "outputId": "45322276-442c-42fb-c566-6da704672358"
      },
      "execution_count": null,
      "outputs": [
        {
          "output_type": "stream",
          "name": "stdout",
          "text": [
            "P_1          7265\n",
            "control_2    5044\n",
            "control_1    4995\n",
            "control_3    3369\n",
            "control_5    3317\n",
            "control_4    3295\n",
            "S_4          1747\n",
            "S_2          1665\n",
            "S_1          1636\n",
            "S_3          1573\n",
            "Name: donor, dtype: int64\n"
          ]
        }
      ]
    },
    {
      "cell_type": "markdown",
      "source": [
        "#CIP all QC metrics"
      ],
      "metadata": {
        "id": "A7mhiJ_hz9iB"
      }
    },
    {
      "cell_type": "code",
      "source": [
        "adata2=sc.read('/content/drive/MyDrive/CIP_v3_data/CIP_all/FullDataset/datasets/CIP_all_v3_no_W6_8__filteredNormalized_annotated_2023-02-14.h5ad')"
      ],
      "metadata": {
        "id": "FK4wmsRNyseA"
      },
      "execution_count": null,
      "outputs": []
    },
    {
      "cell_type": "code",
      "source": [
        "print(adata2.obs['donor'].value_counts())"
      ],
      "metadata": {
        "colab": {
          "base_uri": "https://localhost:8080/"
        },
        "id": "Kto-Izi9zRAp",
        "outputId": "41ffb0c7-e0ac-4c5c-a0f7-67a676f8e968"
      },
      "execution_count": null,
      "outputs": [
        {
          "output_type": "stream",
          "name": "stdout",
          "text": [
            "5day_2       5675\n",
            "24hr_2       5640\n",
            "24hr_1       5426\n",
            "14hr_1       5165\n",
            "72hr_1       5105\n",
            "control_2    5044\n",
            "control_1    4997\n",
            "72hr_2       4332\n",
            "0hr_1        4018\n",
            "5day_1       3687\n",
            "control_3    3370\n",
            "control_5    3316\n",
            "control_4    3295\n",
            "0hr_2        2843\n",
            "14day_2      2515\n",
            "14day_1      2274\n",
            "14hr_2       1676\n",
            "Name: donor, dtype: int64\n"
          ]
        }
      ]
    },
    {
      "cell_type": "code",
      "source": [
        "list_of_donors = [\"control_1\",\"control_2\",\"control_3\",\"control_4\",\"control_5\",\"0hr_1\",\"0hr_2\",\"14hr_1\",\"14hr_2\",\"24hr_1\",\"24hr_2\",\"72hr_1\",\"72hr_2\",\"5day_1\",\"5day_2\",\"14day_1\",\"14day_2\"]\n",
        "for d in list_of_donors:\n",
        "    print('average n_counts for '+d)\n",
        "    print(mean(adata2[adata2.obs[\"donor\"]==d].obs['n_counts']))"
      ],
      "metadata": {
        "colab": {
          "base_uri": "https://localhost:8080/"
        },
        "id": "s5Ae-dPVhebD",
        "outputId": "e6e2e5b2-e717-4434-c657-038add62fd27"
      },
      "execution_count": null,
      "outputs": [
        {
          "output_type": "stream",
          "name": "stdout",
          "text": [
            "average n_counts for control_1\n",
            "6685.961977186312\n",
            "average n_counts for control_2\n",
            "6143.287470261697\n",
            "average n_counts for control_3\n",
            "4277.037091988131\n",
            "average n_counts for control_4\n",
            "6551.550227617602\n",
            "average n_counts for control_5\n",
            "8543.696320868516\n",
            "average n_counts for 0hr_1\n",
            "16876.406669985066\n",
            "average n_counts for 0hr_2\n",
            "18602.98346816743\n",
            "average n_counts for 14hr_1\n",
            "18073.450338818973\n",
            "average n_counts for 14hr_2\n",
            "22586.545346062052\n",
            "average n_counts for 24hr_1\n",
            "12855.440471802433\n",
            "average n_counts for 24hr_2\n",
            "11095.34609929078\n",
            "average n_counts for 72hr_1\n",
            "5728.66013712047\n",
            "average n_counts for 72hr_2\n",
            "16650.19159741459\n",
            "average n_counts for 5day_1\n",
            "11969.084621643613\n",
            "average n_counts for 5day_2\n",
            "5332.050925110132\n",
            "average n_counts for 14day_1\n",
            "8331.44151275286\n",
            "average n_counts for 14day_2\n",
            "5947.645328031809\n"
          ]
        }
      ]
    },
    {
      "cell_type": "code",
      "source": [
        "list_of_donors = [\"control_1\",\"control_2\",\"control_3\",\"control_4\",\"control_5\",\"0hr_1\",\"0hr_2\",\"14hr_1\",\"14hr_2\",\"24hr_1\",\"24hr_2\",\"72hr_1\",\"72hr_2\",\"5day_1\",\"5day_2\",\"14day_1\",\"14day_2\"]\n",
        "for d in list_of_donors:\n",
        "    print('average n_genes for '+d)\n",
        "    print(mean(adata2[adata2.obs[\"donor\"]==d].obs['n_genes']))"
      ],
      "metadata": {
        "colab": {
          "base_uri": "https://localhost:8080/"
        },
        "id": "A43EqHT2hebI",
        "outputId": "291e6773-8cfa-4c10-8fe1-3c7dd2487170"
      },
      "execution_count": null,
      "outputs": [
        {
          "output_type": "stream",
          "name": "stdout",
          "text": [
            "average n_genes for control_1\n",
            "1506.2655593356014\n",
            "average n_genes for control_2\n",
            "1406.4706582077715\n",
            "average n_genes for control_3\n",
            "829.6486646884273\n",
            "average n_genes for control_4\n",
            "1522.2291350531107\n",
            "average n_genes for control_5\n",
            "1677.5069360675514\n",
            "average n_genes for 0hr_1\n",
            "3496.1585365853657\n",
            "average n_genes for 0hr_2\n",
            "3647.072810411537\n",
            "average n_genes for 14hr_1\n",
            "3746.000968054211\n",
            "average n_genes for 14hr_2\n",
            "3787.7708830548927\n",
            "average n_genes for 24hr_1\n",
            "3291.583302617029\n",
            "average n_genes for 24hr_2\n",
            "2952.8547872340428\n",
            "average n_genes for 72hr_1\n",
            "1745.5206660137121\n",
            "average n_genes for 72hr_2\n",
            "3836.347183748846\n",
            "average n_genes for 5day_1\n",
            "3010.3157038242475\n",
            "average n_genes for 5day_2\n",
            "1496.6214977973568\n",
            "average n_genes for 14day_1\n",
            "1166.9551451187335\n",
            "average n_genes for 14day_2\n",
            "944.2946322067594\n"
          ]
        }
      ]
    },
    {
      "cell_type": "markdown",
      "source": [
        "#GSE141017 Kras"
      ],
      "metadata": {
        "id": "jRzXaibq3LJS"
      }
    },
    {
      "cell_type": "code",
      "source": [
        "adata2=sc.read('/content/drive/MyDrive/CellRanger_7_Data/Schlesinger_CR7/Schlesinger_all_v3_QCfilteredNormalized_Harmony_Triku_Neighbors_annotated_20230301.h5ad')"
      ],
      "metadata": {
        "id": "MQgIsqON3N-B"
      },
      "execution_count": null,
      "outputs": []
    },
    {
      "cell_type": "code",
      "source": [
        "print(adata2.obs['donor'].value_counts())"
      ],
      "metadata": {
        "colab": {
          "base_uri": "https://localhost:8080/"
        },
        "outputId": "ab24fc15-db8a-443b-e0ae-e2b6d0af02f4",
        "id": "iJU7qGL67G7m"
      },
      "execution_count": null,
      "outputs": [
        {
          "output_type": "stream",
          "name": "stdout",
          "text": [
            "3months_2    7717\n",
            "17days       4745\n",
            "6weeks       4523\n",
            "3months_1    2291\n",
            "S_4          1753\n",
            "S_2          1674\n",
            "S_1          1640\n",
            "S_3          1581\n",
            "Name: donor, dtype: int64\n"
          ]
        }
      ]
    },
    {
      "cell_type": "code",
      "source": [
        "list_of_donors = [\"S_1\",\"S_2\",\"S_3\",\"S_4\",\"17days\",\"6weeks\",\"3months_1\",\"3months_2\"]\n",
        "for d in list_of_donors:\n",
        "    print('average n_counts for '+d)\n",
        "    print(mean(adata2[adata2.obs[\"donor\"]==d].obs['n_counts']))"
      ],
      "metadata": {
        "colab": {
          "base_uri": "https://localhost:8080/"
        },
        "id": "Jopp-f4BSktF",
        "outputId": "0cdf493c-8771-4a6b-c678-fd6031aa5a6f"
      },
      "execution_count": null,
      "outputs": [
        {
          "output_type": "stream",
          "name": "stdout",
          "text": [
            "average n_counts for S_1\n",
            "4204.9884146341465\n",
            "average n_counts for S_2\n",
            "4016.9743130227002\n",
            "average n_counts for S_3\n",
            "4371.7166350411135\n",
            "average n_counts for S_4\n",
            "4098.914432401597\n",
            "average n_counts for 17days\n",
            "4777.029926238145\n",
            "average n_counts for 6weeks\n",
            "6468.762989166483\n",
            "average n_counts for 3months_1\n",
            "5508.593190746399\n",
            "average n_counts for 3months_2\n",
            "3217.0826746144876\n"
          ]
        }
      ]
    },
    {
      "cell_type": "code",
      "source": [
        "list_of_donors = [\"S_1\",\"S_2\",\"S_3\",\"S_4\",\"17days\",\"6weeks\",\"3months_1\",\"3months_2\"]\n",
        "for d in list_of_donors:\n",
        "    print('average n_genes for '+d)\n",
        "    print(mean(adata2[adata2.obs[\"donor\"]==d].obs['n_genes']))"
      ],
      "metadata": {
        "colab": {
          "base_uri": "https://localhost:8080/"
        },
        "id": "8xh6wZUMSktO",
        "outputId": "bf6f9ee2-2c94-4a64-8cfa-4b9a76599458"
      },
      "execution_count": null,
      "outputs": [
        {
          "output_type": "stream",
          "name": "stdout",
          "text": [
            "average n_genes for S_1\n",
            "1708.8030487804879\n",
            "average n_genes for S_2\n",
            "1750.1804062126644\n",
            "average n_genes for S_3\n",
            "1869.1246046805818\n",
            "average n_genes for S_4\n",
            "1794.2732458642326\n",
            "average n_genes for 17days\n",
            "1685.376817702845\n",
            "average n_genes for 6weeks\n",
            "2126.19854079151\n",
            "average n_genes for 3months_1\n",
            "1816.2632038411175\n",
            "average n_genes for 3months_2\n",
            "1278.0355060256577\n"
          ]
        }
      ]
    },
    {
      "cell_type": "markdown",
      "source": [
        "#GSE180212 CIP"
      ],
      "metadata": {
        "id": "d-sPOYUC3Mbo"
      }
    },
    {
      "cell_type": "code",
      "source": [
        "adata2=sc.read('/content/drive/MyDrive/CellRanger_7_Data/Poggetto_CR7/Poggetto_all_v3_QCfilteredNormalized_Harmony_Triku_Neighbors_annotated_20230207.h5ad')"
      ],
      "metadata": {
        "id": "53KCTJWH63Qk"
      },
      "execution_count": null,
      "outputs": []
    },
    {
      "cell_type": "code",
      "source": [
        "print(adata2.obs['donor'].value_counts())"
      ],
      "metadata": {
        "colab": {
          "base_uri": "https://localhost:8080/"
        },
        "outputId": "e459b93d-1997-4f42-d30a-1306358acb6b",
        "id": "MtgHASTQ7If3"
      },
      "execution_count": null,
      "outputs": [
        {
          "output_type": "stream",
          "name": "stdout",
          "text": [
            "P_24hr     8951\n",
            "P_1        7376\n",
            "P_7day     7277\n",
            "P_28day    6108\n",
            "Name: donor, dtype: int64\n"
          ]
        }
      ]
    },
    {
      "cell_type": "code",
      "source": [
        "list_of_donors = [\"P_1\",\"P_24hr\",\"P_7day\",\"P_28day\"]\n",
        "for d in list_of_donors:\n",
        "    print('average n_counts for '+d)\n",
        "    print(mean(adata2[adata2.obs[\"donor\"]==d].obs['n_counts']))"
      ],
      "metadata": {
        "colab": {
          "base_uri": "https://localhost:8080/"
        },
        "id": "ivbXgGpRSPjD",
        "outputId": "10a30c2a-4685-4e65-c1f6-f4b0abc5b137"
      },
      "execution_count": null,
      "outputs": [
        {
          "output_type": "stream",
          "name": "stdout",
          "text": [
            "average n_counts for P_1\n",
            "10578.739696312365\n",
            "average n_counts for P_24hr\n",
            "39681.545413920234\n",
            "average n_counts for P_7day\n",
            "26273.977188401816\n",
            "average n_counts for P_28day\n",
            "13596.907662082514\n"
          ]
        }
      ]
    },
    {
      "cell_type": "code",
      "source": [
        "list_of_donors = [\"P_1\",\"P_24hr\",\"P_7day\",\"P_28day\"]\n",
        "for d in list_of_donors:\n",
        "    print('average n_genes for '+d)\n",
        "    print(mean(adata2[adata2.obs[\"donor\"]==d].obs['n_genes']))"
      ],
      "metadata": {
        "colab": {
          "base_uri": "https://localhost:8080/"
        },
        "id": "ukR_N7SfST3S",
        "outputId": "725ad08c-a5bf-4be5-c71a-bdb3475a6053"
      },
      "execution_count": null,
      "outputs": [
        {
          "output_type": "stream",
          "name": "stdout",
          "text": [
            "average n_genes for P_1\n",
            "2344.5997830802603\n",
            "average n_genes for P_24hr\n",
            "5196.006703161658\n",
            "average n_genes for P_7day\n",
            "4435.374879758142\n",
            "average n_genes for P_28day\n",
            "1997.0024557956779\n"
          ]
        }
      ]
    },
    {
      "cell_type": "markdown",
      "source": [
        "#PRJNA835747 Methods Comparison"
      ],
      "metadata": {
        "id": "n4oQqEcR9t6J"
      }
    },
    {
      "cell_type": "code",
      "source": [
        "adata2=sc.read('Methods_Comparison_Zhou_v3_QCfilteredNormalized_Harmony_Triku_Neighbors_annotated_20230425.h5ad')"
      ],
      "metadata": {
        "id": "r6hqCNoZ9t6Q"
      },
      "execution_count": null,
      "outputs": []
    },
    {
      "cell_type": "code",
      "source": [
        "list_of_donors = [\"control_1\",\"control_2\",\"control_3\",\"control_4\",\"control_5\",\"P_1\",\"S_1\",\"S_2\",\"S_3\",\"S_4\",\"Z_1\",\"Z_2\"]\n",
        "for d in list_of_donors:\n",
        "    print('average n_counts for '+d)\n",
        "    print(mean(adata2[adata2.obs[\"donor\"]==d].obs['n_counts']))"
      ],
      "metadata": {
        "colab": {
          "base_uri": "https://localhost:8080/"
        },
        "id": "CpcMOBwUO94q",
        "outputId": "3d88c61f-04a4-4eb5-a186-50037a25f522"
      },
      "execution_count": null,
      "outputs": [
        {
          "output_type": "stream",
          "name": "stdout",
          "text": [
            "average n_counts for control_1\n",
            "6686.925940752602\n",
            "average n_counts for control_2\n",
            "6142.146312450436\n",
            "average n_counts for control_3\n",
            "4276.081281518837\n",
            "average n_counts for control_4\n",
            "6547.022741055185\n",
            "average n_counts for control_5\n",
            "8541.569490503467\n",
            "average n_counts for P_1\n",
            "9581.570937112976\n",
            "average n_counts for S_1\n",
            "4212.528117359413\n",
            "average n_counts for S_2\n",
            "4031.353153153153\n",
            "average n_counts for S_3\n",
            "4379.535532994923\n",
            "average n_counts for S_4\n",
            "4108.006868918145\n",
            "average n_counts for Z_1\n",
            "11356.701880752302\n",
            "average n_counts for Z_2\n",
            "8441.71375464684\n"
          ]
        }
      ]
    },
    {
      "cell_type": "code",
      "source": [
        "list_of_donors = [\"control_1\",\"control_2\",\"control_3\",\"control_4\",\"control_5\",\"P_1\",\"S_1\",\"S_2\",\"S_3\",\"S_4\",\"Z_1\",\"Z_2\"]\n",
        "for d in list_of_donors:\n",
        "    print('average n_counts for '+d)\n",
        "    print((adata2[adata2.obs[\"donor\"]==d].obs['n_counts'].sum()/adata2[adata2.obs[\"donor\"]==d].obs['donor'].value_counts()))"
      ],
      "metadata": {
        "colab": {
          "base_uri": "https://localhost:8080/"
        },
        "id": "WXExPO_qPFqe",
        "outputId": "7e23a895-9996-4fa1-8647-b607644d2db6"
      },
      "execution_count": null,
      "outputs": [
        {
          "output_type": "stream",
          "name": "stdout",
          "text": [
            "average n_counts for control_1\n",
            "control_1    6686.925941\n",
            "Name: donor, dtype: float64\n",
            "average n_counts for control_2\n",
            "control_2    6142.146312\n",
            "Name: donor, dtype: float64\n",
            "average n_counts for control_3\n",
            "control_3    4276.081282\n",
            "Name: donor, dtype: float64\n",
            "average n_counts for control_4\n",
            "control_4    6547.022438\n",
            "Name: donor, dtype: float64\n",
            "average n_counts for control_5\n",
            "control_5    8541.569491\n",
            "Name: donor, dtype: float64\n",
            "average n_counts for P_1\n",
            "P_1    9581.570387\n",
            "Name: donor, dtype: float64\n",
            "average n_counts for S_1\n",
            "S_1    4212.528117\n",
            "Name: donor, dtype: float64\n",
            "average n_counts for S_2\n",
            "S_2    4031.353153\n",
            "Name: donor, dtype: float64\n",
            "average n_counts for S_3\n",
            "S_3    4379.535533\n",
            "Name: donor, dtype: float64\n",
            "average n_counts for S_4\n",
            "S_4    4108.006869\n",
            "Name: donor, dtype: float64\n",
            "average n_counts for Z_1\n",
            "Z_1    11356.701881\n",
            "Name: donor, dtype: float64\n",
            "average n_counts for Z_2\n",
            "Z_2    8441.714168\n",
            "Name: donor, dtype: float64\n"
          ]
        }
      ]
    },
    {
      "cell_type": "code",
      "source": [
        "list_of_donors = [\"control_1\",\"control_2\",\"control_3\",\"control_4\",\"control_5\",\"P_1\",\"S_1\",\"S_2\",\"S_3\",\"S_4\",\"Z_1\",\"Z_2\"]\n",
        "for d in list_of_donors:\n",
        "    print('average n_genes for '+d)\n",
        "    print(mean(adata2[adata2.obs[\"donor\"]==d].obs['n_genes']))"
      ],
      "metadata": {
        "colab": {
          "base_uri": "https://localhost:8080/"
        },
        "id": "KteuGxlqQGpl",
        "outputId": "e53a4231-878b-49b2-f550-df3b20c9337b"
      },
      "execution_count": null,
      "outputs": [
        {
          "output_type": "stream",
          "name": "stdout",
          "text": [
            "average n_genes for control_1\n",
            "1506.3396717373898\n",
            "average n_genes for control_2\n",
            "1406.095955590801\n",
            "average n_genes for control_3\n",
            "829.5060812815188\n",
            "average n_genes for control_4\n",
            "1521.424499696786\n",
            "average n_genes for control_5\n",
            "1677.1422972565572\n",
            "average n_genes for P_1\n",
            "2305.2708132654466\n",
            "average n_genes for S_1\n",
            "1711.4682151589243\n",
            "average n_genes for S_2\n",
            "1755.5285285285286\n",
            "average n_genes for S_3\n",
            "1871.9803299492385\n",
            "average n_genes for S_4\n",
            "1797.728677733257\n",
            "average n_genes for Z_1\n",
            "2834.2144857943176\n",
            "average n_genes for Z_2\n",
            "2347.3467575382074\n"
          ]
        }
      ]
    },
    {
      "cell_type": "code",
      "source": [
        "print(adata.obs['donor'].value_counts())"
      ],
      "metadata": {
        "colab": {
          "base_uri": "https://localhost:8080/"
        },
        "outputId": "83a20e20-4c98-4a1a-bf3d-3d44430e23c0",
        "id": "Dn8X2vVc9t6Q"
      },
      "execution_count": null,
      "outputs": [
        {
          "output_type": "stream",
          "name": "stdout",
          "text": [
            "P_1          7267\n",
            "control_2    5044\n",
            "control_1    4996\n",
            "Z_2          4842\n",
            "control_3    3371\n",
            "control_5    3317\n",
            "control_4    3298\n",
            "Z_1          2499\n",
            "S_4          1747\n",
            "S_2          1665\n",
            "S_1          1636\n",
            "S_3          1576\n",
            "Name: donor, dtype: int64\n"
          ]
        }
      ]
    }
  ]
}