{
  "cells": [
    {
      "cell_type": "markdown",
      "metadata": {
        "id": "view-in-github",
        "colab_type": "text"
      },
      "source": [
        "<a href=\"https://colab.research.google.com/github/nissimlab/CIP-mouse-pancreas/blob/main/Nissim__1_Cellbender_background_removal.ipynb\" target=\"_parent\"><img src=\"https://colab.research.google.com/assets/colab-badge.svg\" alt=\"Open In Colab\"/></a>"
      ]
    },
    {
      "cell_type": "markdown",
      "metadata": {
        "id": "6DYQZJ-rgzDx"
      },
      "source": [
        "# Removing Background using Cellbender"
      ]
    },
    {
      "cell_type": "markdown",
      "metadata": {
        "id": "CaSong8ug-vK"
      },
      "source": [
        "by Andres Vallejo"
      ]
    },
    {
      "cell_type": "markdown",
      "metadata": {
        "id": "iXN3o7eT3gcl"
      },
      "source": [
        "## link Gdrive"
      ]
    },
    {
      "cell_type": "code",
      "execution_count": null,
      "metadata": {
        "colab": {
          "base_uri": "https://localhost:8080/"
        },
        "id": "3uaQHd50uiZk",
        "outputId": "2e8e5368-fcc0-4fef-d57e-d749b7e63a45"
      },
      "outputs": [
        {
          "output_type": "stream",
          "name": "stdout",
          "text": [
            "Mounted at /content/drive\n"
          ]
        }
      ],
      "source": [
        "from google.colab import drive\n",
        "drive.mount('/content/drive',force_remount=True)"
      ]
    },
    {
      "cell_type": "code",
      "execution_count": null,
      "metadata": {
        "id": "QIAV8cCXTx-4"
      },
      "outputs": [],
      "source": [
        "!mkdir MyDrive\n",
        "!mount --bind /content/drive/My\\ Drive /content/MyDrive\n",
        "\n",
        "folder=\"/content/drive/My Drive\"\n",
        "import os\n",
        "os.chdir(folder)"
      ]
    },
    {
      "cell_type": "code",
      "execution_count": null,
      "metadata": {
        "colab": {
          "base_uri": "https://localhost:8080/"
        },
        "id": "Qy4Ir5g9xdFx",
        "outputId": "72702514-1266-42cb-de5e-cfb770781816"
      },
      "outputs": [
        {
          "output_type": "stream",
          "name": "stdout",
          "text": [
            "Drive already mounted at /content/drive; to attempt to forcibly remount, call drive.mount(\"/content/drive\", force_remount=True).\n"
          ]
        }
      ],
      "source": [
        "from google.colab import drive\n",
        "drive.mount('/content/drive')"
      ]
    },
    {
      "cell_type": "markdown",
      "metadata": {
        "id": "r1S_zvZvQqdS"
      },
      "source": [
        "# Download the data"
      ]
    },
    {
      "cell_type": "code",
      "execution_count": null,
      "metadata": {
        "colab": {
          "base_uri": "https://localhost:8080/"
        },
        "id": "ll71dqRBQul2",
        "outputId": "1260b6d1-6fc4-4eef-c962-16bcc1b048a6"
      },
      "outputs": [
        {
          "output_type": "stream",
          "name": "stdout",
          "text": [
            "--2023-01-05 19:58:13--  https://www.dropbox.com/scl/fo/rg1effoyykizdgcomb9r8/h?dl=0&rlkey=pfqr3z4c7uz9zr5ugoi9y5cau\n",
            "Resolving www.dropbox.com (www.dropbox.com)... 162.125.81.18, 2620:100:6025:18::a27d:4512\n",
            "Connecting to www.dropbox.com (www.dropbox.com)|162.125.81.18|:443... connected.\n",
            "HTTP request sent, awaiting response... 200 OK\n",
            "Length: unspecified [text/html]\n",
            "Saving to: ‘W7_CUI_CR7_data.zip’\n",
            "\n",
            "W7_CUI_CR7_data.zip     [  <=>               ] 488.96K  2.11MB/s    in 0.2s    \n",
            "\n",
            "2023-01-05 19:58:15 (2.11 MB/s) - ‘W7_CUI_CR7_data.zip’ saved [500693]\n",
            "\n"
          ]
        }
      ],
      "source": [
        "!wget -O XX_Sample_Name_XX_data.zip 'FILE_DROPBOX_LINK'"
      ]
    },
    {
      "cell_type": "code",
      "execution_count": null,
      "metadata": {
        "colab": {
          "base_uri": "https://localhost:8080/"
        },
        "id": "iMIzwd3lRS1Z",
        "outputId": "cb402532-5c9e-4251-cbe2-3ceca5f7492b"
      },
      "outputs": [
        {
          "name": "stdout",
          "output_type": "stream",
          "text": [
            "Archive:  /content/drive/MyDrive/W7_CUI_CR7_data.zip\n",
            "  End-of-central-directory signature not found.  Either this file is not\n",
            "  a zipfile, or it constitutes one disk of a multi-part archive.  In the\n",
            "  latter case the central directory and zipfile comment will be found on\n",
            "  the last disk(s) of this archive.\n",
            "unzip:  cannot find zipfile directory in one of /content/drive/MyDrive/W7_CUI_CR7_data.zip or\n",
            "        /content/drive/MyDrive/W7_CUI_CR7_data.zip.zip, and cannot find /content/drive/MyDrive/W7_CUI_CR7_data.zip.ZIP, period.\n"
          ]
        }
      ],
      "source": [
        "!unzip \"/content/drive/MyDrive/XX_Sample_Name_XX_data.zip\""
      ]
    },
    {
      "cell_type": "markdown",
      "metadata": {
        "id": "4km6W3-0Rf_S"
      },
      "source": [
        "# Install dependencies and import packages"
      ]
    },
    {
      "cell_type": "code",
      "execution_count": null,
      "metadata": {
        "colab": {
          "base_uri": "https://localhost:8080/"
        },
        "id": "jQmTcYM1H4sW",
        "outputId": "f5354b65-b6d2-4f36-c8ba-6248f45a7650"
      },
      "outputs": [
        {
          "name": "stdout",
          "output_type": "stream",
          "text": [
            "fatal: destination path 'CellBender' already exists and is not an empty directory.\n"
          ]
        }
      ],
      "source": [
        "!git clone https://github.com/broadinstitute/CellBender.git"
      ]
    },
    {
      "cell_type": "code",
      "execution_count": null,
      "metadata": {
        "colab": {
          "base_uri": "https://localhost:8080/"
        },
        "id": "Rnbz3BuYIEOb",
        "outputId": "06a2e2b8-2d77-4a0f-900d-8693d58686bd"
      },
      "outputs": [
        {
          "output_type": "stream",
          "name": "stdout",
          "text": [
            "Looking in indexes: https://pypi.org/simple, https://us-python.pkg.dev/colab-wheels/public/simple/\n",
            "Obtaining file:///content/drive/MyDrive/CellBender\n",
            "  Preparing metadata (setup.py) ... \u001b[?25l\u001b[?25hdone\n",
            "Collecting anndata>=0.7\n",
            "  Downloading anndata-0.8.0-py3-none-any.whl (96 kB)\n",
            "\u001b[2K     \u001b[90m━━━━━━━━━━━━━━━━━━━━━━━━━━━━━━━━━━━━━━━━\u001b[0m \u001b[32m96.1/96.1 KB\u001b[0m \u001b[31m5.3 MB/s\u001b[0m eta \u001b[36m0:00:00\u001b[0m\n",
            "\u001b[?25hRequirement already satisfied: numpy in /usr/local/lib/python3.8/dist-packages (from cellbender==0.2.0) (1.21.6)\n",
            "Requirement already satisfied: scipy in /usr/local/lib/python3.8/dist-packages (from cellbender==0.2.0) (1.7.3)\n",
            "Requirement already satisfied: tables in /usr/local/lib/python3.8/dist-packages (from cellbender==0.2.0) (3.7.0)\n",
            "Requirement already satisfied: pandas in /usr/local/lib/python3.8/dist-packages (from cellbender==0.2.0) (1.3.5)\n",
            "Collecting pyro-ppl>=0.3.2\n",
            "  Downloading pyro_ppl-1.8.4-py3-none-any.whl (730 kB)\n",
            "\u001b[2K     \u001b[90m━━━━━━━━━━━━━━━━━━━━━━━━━━━━━━━━━━━━━━\u001b[0m \u001b[32m730.7/730.7 KB\u001b[0m \u001b[31m50.4 MB/s\u001b[0m eta \u001b[36m0:00:00\u001b[0m\n",
            "\u001b[?25hRequirement already satisfied: scikit-learn in /usr/local/lib/python3.8/dist-packages (from cellbender==0.2.0) (1.0.2)\n",
            "Requirement already satisfied: matplotlib in /usr/local/lib/python3.8/dist-packages (from cellbender==0.2.0) (3.2.2)\n",
            "Collecting sphinx>=2.1\n",
            "  Downloading sphinx-6.1.1-py3-none-any.whl (3.0 MB)\n",
            "\u001b[2K     \u001b[90m━━━━━━━━━━━━━━━━━━━━━━━━━━━━━━━━━━━━━━━━\u001b[0m \u001b[32m3.0/3.0 MB\u001b[0m \u001b[31m95.8 MB/s\u001b[0m eta \u001b[36m0:00:00\u001b[0m\n",
            "\u001b[?25hCollecting sphinx-rtd-theme\n",
            "  Downloading sphinx_rtd_theme-1.1.1-py2.py3-none-any.whl (2.8 MB)\n",
            "\u001b[2K     \u001b[90m━━━━━━━━━━━━━━━━━━━━━━━━━━━━━━━━━━━━━━━━\u001b[0m \u001b[32m2.8/2.8 MB\u001b[0m \u001b[31m96.2 MB/s\u001b[0m eta \u001b[36m0:00:00\u001b[0m\n",
            "\u001b[?25hCollecting sphinx-autodoc-typehints\n",
            "  Downloading sphinx_autodoc_typehints-1.20.1-py3-none-any.whl (12 kB)\n",
            "Collecting sphinxcontrib-programoutput\n",
            "  Downloading sphinxcontrib_programoutput-0.17-py2.py3-none-any.whl (22 kB)\n",
            "Collecting sphinx-argparse\n",
            "  Downloading sphinx_argparse-0.4.0-py3-none-any.whl (12 kB)\n",
            "Requirement already satisfied: natsort in /usr/local/lib/python3.8/dist-packages (from anndata>=0.7->cellbender==0.2.0) (5.5.0)\n",
            "Requirement already satisfied: packaging>=20 in /usr/local/lib/python3.8/dist-packages (from anndata>=0.7->cellbender==0.2.0) (21.3)\n",
            "Requirement already satisfied: h5py>=3 in /usr/local/lib/python3.8/dist-packages (from anndata>=0.7->cellbender==0.2.0) (3.1.0)\n",
            "Requirement already satisfied: python-dateutil>=2.7.3 in /usr/local/lib/python3.8/dist-packages (from pandas->cellbender==0.2.0) (2.8.2)\n",
            "Requirement already satisfied: pytz>=2017.3 in /usr/local/lib/python3.8/dist-packages (from pandas->cellbender==0.2.0) (2022.7)\n",
            "Requirement already satisfied: opt-einsum>=2.3.2 in /usr/local/lib/python3.8/dist-packages (from pyro-ppl>=0.3.2->cellbender==0.2.0) (3.3.0)\n",
            "Collecting pyro-api>=0.1.1\n",
            "  Downloading pyro_api-0.1.2-py3-none-any.whl (11 kB)\n",
            "Requirement already satisfied: tqdm>=4.36 in /usr/local/lib/python3.8/dist-packages (from pyro-ppl>=0.3.2->cellbender==0.2.0) (4.64.1)\n",
            "Requirement already satisfied: torch>=1.11.0 in /usr/local/lib/python3.8/dist-packages (from pyro-ppl>=0.3.2->cellbender==0.2.0) (1.13.0+cu116)\n",
            "Collecting sphinxcontrib-jsmath\n",
            "  Downloading sphinxcontrib_jsmath-1.0.1-py2.py3-none-any.whl (5.1 kB)\n",
            "Collecting sphinxcontrib-htmlhelp>=2.0.0\n",
            "  Downloading sphinxcontrib_htmlhelp-2.0.0-py2.py3-none-any.whl (100 kB)\n",
            "\u001b[2K     \u001b[90m━━━━━━━━━━━━━━━━━━━━━━━━━━━━━━━━━━━━━━\u001b[0m \u001b[32m100.5/100.5 KB\u001b[0m \u001b[31m12.9 MB/s\u001b[0m eta \u001b[36m0:00:00\u001b[0m\n",
            "\u001b[?25hCollecting sphinxcontrib-devhelp\n",
            "  Downloading sphinxcontrib_devhelp-1.0.2-py2.py3-none-any.whl (84 kB)\n",
            "\u001b[2K     \u001b[90m━━━━━━━━━━━━━━━━━━━━━━━━━━━━━━━━━━━━━━━━\u001b[0m \u001b[32m84.7/84.7 KB\u001b[0m \u001b[31m10.5 MB/s\u001b[0m eta \u001b[36m0:00:00\u001b[0m\n",
            "\u001b[?25hRequirement already satisfied: importlib-metadata>=4.8 in /usr/local/lib/python3.8/dist-packages (from sphinx>=2.1->cellbender==0.2.0) (5.2.0)\n",
            "Collecting Jinja2>=3.0\n",
            "  Downloading Jinja2-3.1.2-py3-none-any.whl (133 kB)\n",
            "\u001b[2K     \u001b[90m━━━━━━━━━━━━━━━━━━━━━━━━━━━━━━━━━━━━━━\u001b[0m \u001b[32m133.1/133.1 KB\u001b[0m \u001b[31m17.6 MB/s\u001b[0m eta \u001b[36m0:00:00\u001b[0m\n",
            "\u001b[?25hCollecting docutils<0.20,>=0.18\n",
            "  Downloading docutils-0.19-py3-none-any.whl (570 kB)\n",
            "\u001b[2K     \u001b[90m━━━━━━━━━━━━━━━━━━━━━━━━━━━━━━━━━━━━━━\u001b[0m \u001b[32m570.5/570.5 KB\u001b[0m \u001b[31m47.4 MB/s\u001b[0m eta \u001b[36m0:00:00\u001b[0m\n",
            "\u001b[?25hCollecting sphinxcontrib-qthelp\n",
            "  Downloading sphinxcontrib_qthelp-1.0.3-py2.py3-none-any.whl (90 kB)\n",
            "\u001b[2K     \u001b[90m━━━━━━━━━━━━━━━━━━━━━━━━━━━━━━━━━━━━━━━━\u001b[0m \u001b[32m90.6/90.6 KB\u001b[0m \u001b[31m11.3 MB/s\u001b[0m eta \u001b[36m0:00:00\u001b[0m\n",
            "\u001b[?25hRequirement already satisfied: snowballstemmer>=2.0 in /usr/local/lib/python3.8/dist-packages (from sphinx>=2.1->cellbender==0.2.0) (2.2.0)\n",
            "Requirement already satisfied: babel>=2.9 in /usr/local/lib/python3.8/dist-packages (from sphinx>=2.1->cellbender==0.2.0) (2.11.0)\n",
            "Requirement already satisfied: alabaster<0.8,>=0.7 in /usr/local/lib/python3.8/dist-packages (from sphinx>=2.1->cellbender==0.2.0) (0.7.12)\n",
            "Requirement already satisfied: imagesize>=1.3 in /usr/local/lib/python3.8/dist-packages (from sphinx>=2.1->cellbender==0.2.0) (1.4.1)\n",
            "Collecting Pygments>=2.13\n",
            "  Downloading Pygments-2.14.0-py3-none-any.whl (1.1 MB)\n",
            "\u001b[2K     \u001b[90m━━━━━━━━━━━━━━━━━━━━━━━━━━━━━━━━━━━━━━━━\u001b[0m \u001b[32m1.1/1.1 MB\u001b[0m \u001b[31m66.6 MB/s\u001b[0m eta \u001b[36m0:00:00\u001b[0m\n",
            "\u001b[?25hCollecting sphinxcontrib-applehelp\n",
            "  Downloading sphinxcontrib_applehelp-1.0.2-py2.py3-none-any.whl (121 kB)\n",
            "\u001b[2K     \u001b[90m━━━━━━━━━━━━━━━━━━━━━━━━━━━━━━━━━━━━━━\u001b[0m \u001b[32m121.2/121.2 KB\u001b[0m \u001b[31m15.6 MB/s\u001b[0m eta \u001b[36m0:00:00\u001b[0m\n",
            "\u001b[?25hRequirement already satisfied: requests>=2.25.0 in /usr/local/lib/python3.8/dist-packages (from sphinx>=2.1->cellbender==0.2.0) (2.25.1)\n",
            "Requirement already satisfied: sphinxcontrib-serializinghtml>=1.1.5 in /usr/local/lib/python3.8/dist-packages (from sphinx>=2.1->cellbender==0.2.0) (1.1.5)\n",
            "Requirement already satisfied: pyparsing!=2.0.4,!=2.1.2,!=2.1.6,>=2.0.1 in /usr/local/lib/python3.8/dist-packages (from matplotlib->cellbender==0.2.0) (3.0.9)\n",
            "Requirement already satisfied: kiwisolver>=1.0.1 in /usr/local/lib/python3.8/dist-packages (from matplotlib->cellbender==0.2.0) (1.4.4)\n",
            "Requirement already satisfied: cycler>=0.10 in /usr/local/lib/python3.8/dist-packages (from matplotlib->cellbender==0.2.0) (0.11.0)\n",
            "Requirement already satisfied: threadpoolctl>=2.0.0 in /usr/local/lib/python3.8/dist-packages (from scikit-learn->cellbender==0.2.0) (3.1.0)\n",
            "Requirement already satisfied: joblib>=0.11 in /usr/local/lib/python3.8/dist-packages (from scikit-learn->cellbender==0.2.0) (1.2.0)\n",
            "Collecting sphinx>=2.1\n",
            "  Downloading sphinx-5.3.0-py3-none-any.whl (3.2 MB)\n",
            "\u001b[2K     \u001b[90m━━━━━━━━━━━━━━━━━━━━━━━━━━━━━━━━━━━━━━━━\u001b[0m \u001b[32m3.2/3.2 MB\u001b[0m \u001b[31m95.9 MB/s\u001b[0m eta \u001b[36m0:00:00\u001b[0m\n",
            "\u001b[?25hCollecting sphinx-rtd-theme\n",
            "  Downloading sphinx_rtd_theme-1.1.0-py2.py3-none-any.whl (2.8 MB)\n",
            "\u001b[2K     \u001b[90m━━━━━━━━━━━━━━━━━━━━━━━━━━━━━━━━━━━━━━━━\u001b[0m \u001b[32m2.8/2.8 MB\u001b[0m \u001b[31m57.5 MB/s\u001b[0m eta \u001b[36m0:00:00\u001b[0m\n",
            "\u001b[?25h  Downloading sphinx_rtd_theme-1.0.0-py2.py3-none-any.whl (2.8 MB)\n",
            "\u001b[2K     \u001b[90m━━━━━━━━━━━━━━━━━━━━━━━━━━━━━━━━━━━━━━━━\u001b[0m \u001b[32m2.8/2.8 MB\u001b[0m \u001b[31m96.5 MB/s\u001b[0m eta \u001b[36m0:00:00\u001b[0m\n",
            "\u001b[?25h  Downloading sphinx_rtd_theme-0.5.2-py2.py3-none-any.whl (9.1 MB)\n",
            "\u001b[2K     \u001b[90m━━━━━━━━━━━━━━━━━━━━━━━━━━━━━━━━━━━━━━━━\u001b[0m \u001b[32m9.1/9.1 MB\u001b[0m \u001b[31m80.7 MB/s\u001b[0m eta \u001b[36m0:00:00\u001b[0m\n",
            "\u001b[?25h  Downloading sphinx_rtd_theme-0.5.1-py2.py3-none-any.whl (2.8 MB)\n",
            "\u001b[2K     \u001b[90m━━━━━━━━━━━━━━━━━━━━━━━━━━━━━━━━━━━━━━━━\u001b[0m \u001b[32m2.8/2.8 MB\u001b[0m \u001b[31m91.5 MB/s\u001b[0m eta \u001b[36m0:00:00\u001b[0m\n",
            "\u001b[?25hRequirement already satisfied: numexpr>=2.6.2 in /usr/local/lib/python3.8/dist-packages (from tables->cellbender==0.2.0) (2.8.4)\n",
            "Requirement already satisfied: zipp>=0.5 in /usr/local/lib/python3.8/dist-packages (from importlib-metadata>=4.8->sphinx>=2.1->cellbender==0.2.0) (3.11.0)\n",
            "Requirement already satisfied: MarkupSafe>=2.0 in /usr/local/lib/python3.8/dist-packages (from Jinja2>=3.0->sphinx>=2.1->cellbender==0.2.0) (2.0.1)\n",
            "Requirement already satisfied: six>=1.5 in /usr/local/lib/python3.8/dist-packages (from python-dateutil>=2.7.3->pandas->cellbender==0.2.0) (1.15.0)\n",
            "Requirement already satisfied: chardet<5,>=3.0.2 in /usr/local/lib/python3.8/dist-packages (from requests>=2.25.0->sphinx>=2.1->cellbender==0.2.0) (4.0.0)\n",
            "Requirement already satisfied: urllib3<1.27,>=1.21.1 in /usr/local/lib/python3.8/dist-packages (from requests>=2.25.0->sphinx>=2.1->cellbender==0.2.0) (1.24.3)\n",
            "Requirement already satisfied: certifi>=2017.4.17 in /usr/local/lib/python3.8/dist-packages (from requests>=2.25.0->sphinx>=2.1->cellbender==0.2.0) (2022.12.7)\n",
            "Requirement already satisfied: idna<3,>=2.5 in /usr/local/lib/python3.8/dist-packages (from requests>=2.25.0->sphinx>=2.1->cellbender==0.2.0) (2.10)\n",
            "Requirement already satisfied: typing-extensions in /usr/local/lib/python3.8/dist-packages (from torch>=1.11.0->pyro-ppl>=0.3.2->cellbender==0.2.0) (4.4.0)\n",
            "Installing collected packages: pyro-api, sphinxcontrib-qthelp, sphinxcontrib-jsmath, sphinxcontrib-htmlhelp, sphinxcontrib-devhelp, sphinxcontrib-applehelp, Pygments, Jinja2, docutils, sphinx, pyro-ppl, sphinxcontrib-programoutput, sphinx-rtd-theme, sphinx-autodoc-typehints, sphinx-argparse, anndata, cellbender\n",
            "  Attempting uninstall: Pygments\n",
            "    Found existing installation: Pygments 2.6.1\n",
            "    Uninstalling Pygments-2.6.1:\n",
            "      Successfully uninstalled Pygments-2.6.1\n",
            "  Attempting uninstall: Jinja2\n",
            "    Found existing installation: Jinja2 2.11.3\n",
            "    Uninstalling Jinja2-2.11.3:\n",
            "      Successfully uninstalled Jinja2-2.11.3\n",
            "  Attempting uninstall: docutils\n",
            "    Found existing installation: docutils 0.17.1\n",
            "    Uninstalling docutils-0.17.1:\n",
            "      Successfully uninstalled docutils-0.17.1\n",
            "  Attempting uninstall: sphinx\n",
            "    Found existing installation: Sphinx 1.8.6\n",
            "    Uninstalling Sphinx-1.8.6:\n",
            "      Successfully uninstalled Sphinx-1.8.6\n",
            "  Running setup.py develop for cellbender\n",
            "\u001b[31mERROR: pip's dependency resolver does not currently take into account all the packages that are installed. This behaviour is the source of the following dependency conflicts.\n",
            "ipython 7.9.0 requires jedi>=0.10, which is not installed.\n",
            "notebook 5.7.16 requires jinja2<=3.0.0, but you have jinja2 3.1.2 which is incompatible.\n",
            "flask 1.1.4 requires Jinja2<3.0,>=2.10.1, but you have jinja2 3.1.2 which is incompatible.\u001b[0m\u001b[31m\n",
            "\u001b[0mSuccessfully installed Jinja2-3.1.2 Pygments-2.14.0 anndata-0.8.0 cellbender-0.2.0 docutils-0.19 pyro-api-0.1.2 pyro-ppl-1.8.4 sphinx-6.1.1 sphinx-argparse-0.4.0 sphinx-autodoc-typehints-1.20.1 sphinx-rtd-theme-0.5.1 sphinxcontrib-applehelp-1.0.2 sphinxcontrib-devhelp-1.0.2 sphinxcontrib-htmlhelp-2.0.0 sphinxcontrib-jsmath-1.0.1 sphinxcontrib-programoutput-0.17 sphinxcontrib-qthelp-1.0.3\n"
          ]
        }
      ],
      "source": [
        "pip install -e CellBender"
      ]
    },
    {
      "cell_type": "code",
      "execution_count": null,
      "metadata": {
        "colab": {
          "base_uri": "https://localhost:8080/"
        },
        "id": "BLujv-5iCbTz",
        "outputId": "b01e3854-8e4c-4859-a4fa-f578edd76e87"
      },
      "outputs": [
        {
          "output_type": "stream",
          "name": "stdout",
          "text": [
            "Looking in indexes: https://pypi.org/simple, https://us-python.pkg.dev/colab-wheels/public/simple/\n",
            "Collecting docutils==0.16\n",
            "  Downloading docutils-0.16-py2.py3-none-any.whl (548 kB)\n",
            "\u001b[2K     \u001b[90m━━━━━━━━━━━━━━━━━━━━━━━━━━━━━━━━━━━━━━\u001b[0m \u001b[32m548.2/548.2 KB\u001b[0m \u001b[31m37.9 MB/s\u001b[0m eta \u001b[36m0:00:00\u001b[0m\n",
            "\u001b[?25hInstalling collected packages: docutils\n",
            "  Attempting uninstall: docutils\n",
            "    Found existing installation: docutils 0.19\n",
            "    Uninstalling docutils-0.19:\n",
            "      Successfully uninstalled docutils-0.19\n",
            "\u001b[31mERROR: pip's dependency resolver does not currently take into account all the packages that are installed. This behaviour is the source of the following dependency conflicts.\n",
            "sphinx 6.1.1 requires docutils<0.20,>=0.18, but you have docutils 0.16 which is incompatible.\u001b[0m\u001b[31m\n",
            "\u001b[0mSuccessfully installed docutils-0.16\n"
          ]
        }
      ],
      "source": [
        "pip install docutils==0.16"
      ]
    },
    {
      "cell_type": "code",
      "execution_count": null,
      "metadata": {
        "colab": {
          "base_uri": "https://localhost:8080/",
          "height": 1000
        },
        "id": "HHRsCrmgCtLW",
        "outputId": "7b22505a-d318-4a8d-d413-71519b252d53"
      },
      "outputs": [
        {
          "output_type": "stream",
          "name": "stdout",
          "text": [
            "Looking in indexes: https://pypi.org/simple, https://us-python.pkg.dev/colab-wheels/public/simple/\n",
            "Collecting scanpy\n",
            "  Downloading scanpy-1.9.1-py3-none-any.whl (2.0 MB)\n",
            "\u001b[2K     \u001b[90m━━━━━━━━━━━━━━━━━━━━━━━━━━━━━━━━━━━━━━━━\u001b[0m \u001b[32m2.0/2.0 MB\u001b[0m \u001b[31m67.4 MB/s\u001b[0m eta \u001b[36m0:00:00\u001b[0m\n",
            "\u001b[?25hRequirement already satisfied: anndata>=0.7.4 in /usr/local/lib/python3.8/dist-packages (from scanpy) (0.8.0)\n",
            "Requirement already satisfied: numba>=0.41.0 in /usr/local/lib/python3.8/dist-packages (from scanpy) (0.56.4)\n",
            "Requirement already satisfied: h5py>=3 in /usr/local/lib/python3.8/dist-packages (from scanpy) (3.1.0)\n",
            "Requirement already satisfied: packaging in /usr/local/lib/python3.8/dist-packages (from scanpy) (21.3)\n",
            "Requirement already satisfied: natsort in /usr/local/lib/python3.8/dist-packages (from scanpy) (5.5.0)\n",
            "Requirement already satisfied: joblib in /usr/local/lib/python3.8/dist-packages (from scanpy) (1.2.0)\n",
            "Requirement already satisfied: tqdm in /usr/local/lib/python3.8/dist-packages (from scanpy) (4.64.1)\n",
            "Requirement already satisfied: patsy in /usr/local/lib/python3.8/dist-packages (from scanpy) (0.5.3)\n",
            "Collecting session-info\n",
            "  Downloading session_info-1.0.0.tar.gz (24 kB)\n",
            "  Preparing metadata (setup.py) ... \u001b[?25l\u001b[?25hdone\n",
            "Requirement already satisfied: scikit-learn>=0.22 in /usr/local/lib/python3.8/dist-packages (from scanpy) (1.0.2)\n",
            "Requirement already satisfied: pandas>=1.0 in /usr/local/lib/python3.8/dist-packages (from scanpy) (1.3.5)\n",
            "Requirement already satisfied: seaborn in /usr/local/lib/python3.8/dist-packages (from scanpy) (0.11.2)\n",
            "Collecting matplotlib>=3.4\n",
            "  Downloading matplotlib-3.6.2-cp38-cp38-manylinux_2_12_x86_64.manylinux2010_x86_64.whl (9.4 MB)\n",
            "\u001b[2K     \u001b[90m━━━━━━━━━━━━━━━━━━━━━━━━━━━━━━━━━━━━━━━━\u001b[0m \u001b[32m9.4/9.4 MB\u001b[0m \u001b[31m58.2 MB/s\u001b[0m eta \u001b[36m0:00:00\u001b[0m\n",
            "\u001b[?25hCollecting umap-learn>=0.3.10\n",
            "  Downloading umap-learn-0.5.3.tar.gz (88 kB)\n",
            "\u001b[2K     \u001b[90m━━━━━━━━━━━━━━━━━━━━━━━━━━━━━━━━━━━━━━━━\u001b[0m \u001b[32m88.2/88.2 KB\u001b[0m \u001b[31m11.6 MB/s\u001b[0m eta \u001b[36m0:00:00\u001b[0m\n",
            "\u001b[?25h  Preparing metadata (setup.py) ... \u001b[?25l\u001b[?25hdone\n",
            "Requirement already satisfied: numpy>=1.17.0 in /usr/local/lib/python3.8/dist-packages (from scanpy) (1.21.6)\n",
            "Requirement already satisfied: networkx>=2.3 in /usr/local/lib/python3.8/dist-packages (from scanpy) (2.8.8)\n",
            "Requirement already satisfied: scipy>=1.4 in /usr/local/lib/python3.8/dist-packages (from scanpy) (1.7.3)\n",
            "Requirement already satisfied: statsmodels>=0.10.0rc2 in /usr/local/lib/python3.8/dist-packages (from scanpy) (0.12.2)\n",
            "Requirement already satisfied: pyparsing>=2.2.1 in /usr/local/lib/python3.8/dist-packages (from matplotlib>=3.4->scanpy) (3.0.9)\n",
            "Collecting fonttools>=4.22.0\n",
            "  Downloading fonttools-4.38.0-py3-none-any.whl (965 kB)\n",
            "\u001b[2K     \u001b[90m━━━━━━━━━━━━━━━━━━━━━━━━━━━━━━━━━━━━━━\u001b[0m \u001b[32m965.4/965.4 KB\u001b[0m \u001b[31m55.6 MB/s\u001b[0m eta \u001b[36m0:00:00\u001b[0m\n",
            "\u001b[?25hRequirement already satisfied: python-dateutil>=2.7 in /usr/local/lib/python3.8/dist-packages (from matplotlib>=3.4->scanpy) (2.8.2)\n",
            "Requirement already satisfied: kiwisolver>=1.0.1 in /usr/local/lib/python3.8/dist-packages (from matplotlib>=3.4->scanpy) (1.4.4)\n",
            "Requirement already satisfied: cycler>=0.10 in /usr/local/lib/python3.8/dist-packages (from matplotlib>=3.4->scanpy) (0.11.0)\n",
            "Requirement already satisfied: pillow>=6.2.0 in /usr/local/lib/python3.8/dist-packages (from matplotlib>=3.4->scanpy) (7.1.2)\n",
            "Collecting contourpy>=1.0.1\n",
            "  Downloading contourpy-1.0.6-cp38-cp38-manylinux_2_17_x86_64.manylinux2014_x86_64.whl (295 kB)\n",
            "\u001b[2K     \u001b[90m━━━━━━━━━━━━━━━━━━━━━━━━━━━━━━━━━━━━━━\u001b[0m \u001b[32m296.0/296.0 KB\u001b[0m \u001b[31m27.8 MB/s\u001b[0m eta \u001b[36m0:00:00\u001b[0m\n",
            "\u001b[?25hRequirement already satisfied: llvmlite<0.40,>=0.39.0dev0 in /usr/local/lib/python3.8/dist-packages (from numba>=0.41.0->scanpy) (0.39.1)\n",
            "Requirement already satisfied: importlib-metadata in /usr/local/lib/python3.8/dist-packages (from numba>=0.41.0->scanpy) (5.2.0)\n",
            "Requirement already satisfied: setuptools in /usr/local/lib/python3.8/dist-packages (from numba>=0.41.0->scanpy) (57.4.0)\n",
            "Requirement already satisfied: pytz>=2017.3 in /usr/local/lib/python3.8/dist-packages (from pandas>=1.0->scanpy) (2022.7)\n",
            "Requirement already satisfied: threadpoolctl>=2.0.0 in /usr/local/lib/python3.8/dist-packages (from scikit-learn>=0.22->scanpy) (3.1.0)\n",
            "Requirement already satisfied: six in /usr/local/lib/python3.8/dist-packages (from patsy->scanpy) (1.15.0)\n",
            "Collecting pynndescent>=0.5\n",
            "  Downloading pynndescent-0.5.8.tar.gz (1.1 MB)\n",
            "\u001b[2K     \u001b[90m━━━━━━━━━━━━━━━━━━━━━━━━━━━━━━━━━━━━━━━━\u001b[0m \u001b[32m1.1/1.1 MB\u001b[0m \u001b[31m63.7 MB/s\u001b[0m eta \u001b[36m0:00:00\u001b[0m\n",
            "\u001b[?25h  Preparing metadata (setup.py) ... \u001b[?25l\u001b[?25hdone\n",
            "Collecting stdlib_list\n",
            "  Downloading stdlib_list-0.8.0-py3-none-any.whl (63 kB)\n",
            "\u001b[2K     \u001b[90m━━━━━━━━━━━━━━━━━━━━━━━━━━━━━━━━━━━━━━━━\u001b[0m \u001b[32m63.5/63.5 KB\u001b[0m \u001b[31m5.6 MB/s\u001b[0m eta \u001b[36m0:00:00\u001b[0m\n",
            "\u001b[?25hRequirement already satisfied: zipp>=0.5 in /usr/local/lib/python3.8/dist-packages (from importlib-metadata->numba>=0.41.0->scanpy) (3.11.0)\n",
            "Building wheels for collected packages: umap-learn, session-info, pynndescent\n",
            "  Building wheel for umap-learn (setup.py) ... \u001b[?25l\u001b[?25hdone\n",
            "  Created wheel for umap-learn: filename=umap_learn-0.5.3-py3-none-any.whl size=82829 sha256=502f12e50b976c7bbc122ee93854f8973ebc3ac52e5b7ad84c7f8b0706500c03\n",
            "  Stored in directory: /root/.cache/pip/wheels/a9/3a/67/06a8950e053725912e6a8c42c4a3a241410f6487b8402542ea\n",
            "  Building wheel for session-info (setup.py) ... \u001b[?25l\u001b[?25hdone\n",
            "  Created wheel for session-info: filename=session_info-1.0.0-py3-none-any.whl size=8046 sha256=770660de87bd80a532705d9334ad5bfe284196d06b16f3e38b1e7651966d106f\n",
            "  Stored in directory: /root/.cache/pip/wheels/5c/1b/4d/111d73980c5c6a8e5e5905a19eccc34296cb359cac54c6c5b9\n",
            "  Building wheel for pynndescent (setup.py) ... \u001b[?25l\u001b[?25hdone\n",
            "  Created wheel for pynndescent: filename=pynndescent-0.5.8-py3-none-any.whl size=55513 sha256=eb5d203ba9bdbf35239d77958497ca1945ef9cf8bb4e6a75de864c31ecab8447\n",
            "  Stored in directory: /root/.cache/pip/wheels/1c/63/3a/29954bca1a27ba100ed8c27973a78cb71b43dc67aed62e80c3\n",
            "Successfully built umap-learn session-info pynndescent\n",
            "Installing collected packages: stdlib_list, session-info, fonttools, contourpy, matplotlib, pynndescent, umap-learn, scanpy\n",
            "  Attempting uninstall: matplotlib\n",
            "    Found existing installation: matplotlib 3.2.2\n",
            "    Uninstalling matplotlib-3.2.2:\n",
            "      Successfully uninstalled matplotlib-3.2.2\n",
            "Successfully installed contourpy-1.0.6 fonttools-4.38.0 matplotlib-3.6.2 pynndescent-0.5.8 scanpy-1.9.1 session-info-1.0.0 stdlib_list-0.8.0 umap-learn-0.5.3\n"
          ]
        },
        {
          "output_type": "display_data",
          "data": {
            "application/vnd.colab-display-data+json": {
              "pip_warning": {
                "packages": [
                  "matplotlib",
                  "mpl_toolkits"
                ]
              }
            }
          },
          "metadata": {}
        }
      ],
      "source": [
        "pip install scanpy"
      ]
    },
    {
      "cell_type": "code",
      "execution_count": null,
      "metadata": {
        "id": "JvDFb0tNCv2c"
      },
      "outputs": [],
      "source": [
        "import scanpy as sc\n",
        "import scipy as sp"
      ]
    },
    {
      "cell_type": "code",
      "execution_count": null,
      "metadata": {
        "id": "ekGaGTvz2eKr"
      },
      "outputs": [],
      "source": [
        "\"\"\"Functions for downstream work with outputs of remove-background.\"\"\"\n",
        "\n",
        "import tables\n",
        "import numpy as np\n",
        "import scipy.sparse as sp\n",
        "from typing import Dict\n",
        "\n",
        "\n",
        "def dict_from_h5(file: str) -> Dict[str, np.ndarray]:\n",
        "    \"\"\"Read in everything from an h5 file and put into a dictionary.\"\"\"\n",
        "    d = {}\n",
        "    with tables.open_file(file) as f:\n",
        "        # read in everything\n",
        "        for array in f.walk_nodes(\"/\", \"Array\"):\n",
        "            d[array.name] = array.read()\n",
        "    return d\n",
        "\n",
        "\n",
        "def anndata_from_h5(file: str,\n",
        "                    analyzed_barcodes_only: bool = True) -> 'anndata.AnnData':\n",
        "    \"\"\"Load an output h5 file into an AnnData object for downstream work.\n",
        "\n",
        "    Args:\n",
        "        file: The h5 file\n",
        "        analyzed_barcodes_only: False to load all barcodes, so that the size of\n",
        "            the AnnData object will match the size of the input raw count matrix.\n",
        "            True to load a limited set of barcodes: only those analyzed by the\n",
        "            algorithm. This allows relevant latent variables to be loaded\n",
        "            properly into adata.obs and adata.obsm, rather than adata.uns.\n",
        "\n",
        "    Returns:\n",
        "        adata: The anndata object, populated with inferred latent variables\n",
        "            and metadata.\n",
        "\n",
        "    \"\"\"\n",
        "\n",
        "    try:\n",
        "        import anndata\n",
        "    except ImportError:\n",
        "        raise ImportError('The anndata package must be installed to use the '\n",
        "                          'function anndata_from_h5()')\n",
        "\n",
        "    d = dict_from_h5(file)\n",
        "    X = sp.csc_matrix((d.pop('data'), d.pop('indices'), d.pop('indptr')),\n",
        "                      shape=d.pop('shape')).transpose().tocsr()\n",
        "\n",
        "    if analyzed_barcodes_only:\n",
        "        if 'barcodes_analyzed_inds' in d.keys():\n",
        "            X = X[d['barcodes_analyzed_inds'], :]\n",
        "            d['barcodes'] = d['barcodes'][d['barcodes_analyzed_inds']]\n",
        "        elif 'barcode_indices_for_latents' in d.keys():\n",
        "            X = X[d['barcode_indices_for_latents'], :]\n",
        "            d['barcodes'] = d['barcodes'][d['barcode_indices_for_latents']]\n",
        "        else:\n",
        "            print('Warning: analyzed_barcodes_only=True, but the key '\n",
        "                  '\"barcodes_analyzed_inds\" or \"barcode_indices_for_latents\" '\n",
        "                  'is missing from the h5 file. '\n",
        "                  'Will output all barcodes, and proceed as if '\n",
        "                  'analyzed_barcodes_only=False')\n",
        "\n",
        "    # Construct the count matrix.\n",
        "    adata = anndata.AnnData(X=X,\n",
        "                            obs={'barcode': d.pop('barcodes').astype(str)},\n",
        "                            var={'gene_name': (d.pop('gene_names') if 'gene_names' in d.keys()\n",
        "                                               else d.pop('name')).astype(str)})\n",
        "    adata.obs.set_index('barcode', inplace=True)\n",
        "    adata.var.set_index('gene_name', inplace=True)\n",
        "\n",
        "    # Add other information to the adata object in the appropriate slot.\n",
        "    for key, value in d.items():\n",
        "        try:\n",
        "            value = np.asarray(value)\n",
        "            if len(value.shape) == 0:\n",
        "                adata.uns[key] = value\n",
        "            elif value.shape[0] == X.shape[0]:\n",
        "                if (len(value.shape) < 2) or (value.shape[1] < 2):\n",
        "                    adata.obs[key] = value\n",
        "                else:\n",
        "                    adata.obsm[key] = value\n",
        "            elif value.shape[0] == X.shape[1]:\n",
        "                if value.dtype.name.startswith('bytes'):\n",
        "                    adata.var[key] = value.astype(str)\n",
        "                else:\n",
        "                    adata.var[key] = value\n",
        "            else:\n",
        "                adata.uns[key] = value\n",
        "        except Exception:\n",
        "            print('Unable to load data into AnnData: ', key, value, type(value))\n",
        "\n",
        "    if analyzed_barcodes_only:\n",
        "        for col in adata.obs.columns[adata.obs.columns.str.startswith('barcodes_analyzed')\n",
        "                                     | adata.obs.columns.str.startswith('barcode_indices')]:\n",
        "            try:\n",
        "                del adata.obs[col]\n",
        "            except Exception:\n",
        "                pass\n",
        "\n",
        "    return adata\n",
        "\n",
        "\n",
        "def load_anndata_from_input_and_output(input_file: str,\n",
        "                                       output_file: str,\n",
        "                                       analyzed_barcodes_only: bool = True,\n",
        "                                       input_layer_key: str = 'cellranger') -> 'anndata.AnnData':\n",
        "    \"\"\"Load remove-background output count matrix into an anndata object,\n",
        "    together with remove-background metadata and the raw input counts.\n",
        "\n",
        "    Args:\n",
        "        input_file: Raw h5 file used as input for remove-background.\n",
        "        output_file: Output h5 file created by remove-background (can be\n",
        "            filtered or not).\n",
        "        analyzed_barcodes_only: Argument passed to anndata_from_h5().\n",
        "            False to load all barcodes, so that the size of\n",
        "            the AnnData object will match the size of the input raw count matrix.\n",
        "            True to load a limited set of barcodes: only those analyzed by the\n",
        "            algorithm. This allows relevant latent variables to be loaded\n",
        "            properly into adata.obs and adata.obsm, rather than adata.uns.\n",
        "        input_layer_key: Key of the anndata.layer that is created for the raw\n",
        "            input count matrix.\n",
        "\n",
        "    Return:\n",
        "        adata_out: AnnData object with counts before and after remove-background,\n",
        "            as well as inferred latent variables from remove-background.\n",
        "\n",
        "    \"\"\"\n",
        "\n",
        "    # Load input data.\n",
        "    adata_raw = anndata_from_h5(input_file, analyzed_barcodes_only=False)\n",
        "\n",
        "    # Load remove-background output data.\n",
        "    adata_out = anndata_from_h5(output_file, analyzed_barcodes_only=analyzed_barcodes_only)\n",
        "\n",
        "    # Subset the raw dataset to the relevant barcodes.\n",
        "    adata_raw = adata_raw[adata_out.obs.index]\n",
        "\n",
        "    # Put count matrices into 'layers' in anndata for clarity.\n",
        "    adata_out.layers[input_layer_key] = adata_raw.X.copy()\n",
        "    adata_out.layers['cellbender'] = adata_out.X.copy()\n",
        "\n",
        "    # Pre-compute a bit of metadata.\n",
        "    adata_out.var['n_cellranger'] = np.array(adata_out.layers['cellranger'].sum(axis=0)).squeeze()\n",
        "    adata_out.var['n_cellbender'] = np.array(adata_out.layers['cellbender'].sum(axis=0)).squeeze()\n",
        "\n",
        "    return adata_out"
      ]
    },
    {
      "cell_type": "markdown",
      "metadata": {
        "id": "duQ3CAqJSk7M"
      },
      "source": [
        "# setup WD"
      ]
    },
    {
      "cell_type": "code",
      "execution_count": null,
      "metadata": {
        "id": "RgPsFtPxaFyZ"
      },
      "outputs": [],
      "source": [
        "folder='/content/drive/MyDrive/XX_Folder_Name_XX'\n",
        "import os\n",
        "os.chdir(folder) #changes working directory to specified path"
      ]
    },
    {
      "cell_type": "markdown",
      "metadata": {
        "id": "zLnmmw2cSJ48"
      },
      "source": [
        "# Import the data "
      ]
    },
    {
      "cell_type": "code",
      "execution_count": null,
      "metadata": {
        "colab": {
          "base_uri": "https://localhost:8080/"
        },
        "id": "lSDpMTZsaBBN",
        "outputId": "d29507d6-4f08-4d2e-882f-6cb1ac386458"
      },
      "outputs": [
        {
          "name": "stdout",
          "output_type": "stream",
          "text": [
            "/content/drive/MyDrive/CellRanger_7_Data/W7_CUI/W7_17/raw_feature_bc_matrix/\n",
            "/content/drive/MyDrive/CellRanger_7_Data/W7_CUI/W7_18/raw_feature_bc_matrix/\n",
            "/content/drive/MyDrive/CellRanger_7_Data/W7_CUI/W7_19/raw_feature_bc_matrix/\n",
            "/content/drive/MyDrive/CellRanger_7_Data/W7_CUI/W7_20/raw_feature_bc_matrix/\n"
          ]
        }
      ],
      "source": [
        "folder='/content/drive/MyDrive/XX_Folder_Name_XX/'\n",
        "for sample in ['Sample_1','Sample_2']:\n",
        "    foldersample=sample + '/'\n",
        "    reds= foldersample +'adata.h5ada'\n",
        "    write=foldersample +'adata1.h5ad'\n",
        "    input=folder + sample + '/raw_feature_bc_matrix/'\n",
        "    output=folder + foldersample + sample +'_raw.h5ad'\n",
        "    print(input)\n",
        "    adata=sc.read_10x_mtx(input)\n",
        "    adata.write(output)"
      ]
    },
    {
      "cell_type": "markdown",
      "metadata": {
        "id": "2iSzPqd-DbdA"
      },
      "source": [
        "##expect 10k, include 30k"
      ]
    },
    {
      "cell_type": "code",
      "execution_count": null,
      "metadata": {
        "id": "wl9dSqlbrLFD"
      },
      "outputs": [],
      "source": [
        "%%time\n",
        "%%!\n",
        "folder=/content/drive/MyDrive/XX_Folder_Name_XX/\n",
        "cd /content/drive/MyDrive/XX_Folder_Name_XX/\n",
        "for DIR in $(ls -d */); do\n",
        "  echo $DIR\n",
        "  cd $DIR\n",
        "  base=$(echo $DIR|awk '{print substr($0, 1, length()-1)}')\n",
        "  echo $base\n",
        "  input=$folder/$base/$base'_raw.h5ad'\n",
        "  output=$folder/$base/$base'_cellbender.h5'\n",
        "  base=$input\n",
        "  echo $input\n",
        "  echo $output\n",
        "  cellbender remove-background --cuda --input $input --output $output --expected-cells 10000 --total-droplets-included 30000 --model full --fpr 0.01 --epochs 150\n",
        "  cd ..\n",
        "done"
      ]
    }
  ],
  "metadata": {
    "accelerator": "GPU",
    "colab": {
      "machine_shape": "hm",
      "provenance": [],
      "include_colab_link": true
    },
    "kernelspec": {
      "display_name": "Python 3",
      "name": "python3"
    },
    "language_info": {
      "name": "python"
    }
  },
  "nbformat": 4,
  "nbformat_minor": 0
}
